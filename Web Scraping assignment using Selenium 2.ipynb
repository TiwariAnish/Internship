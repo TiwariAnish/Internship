{
 "cells": [
  {
   "cell_type": "code",
   "execution_count": 1,
   "id": "6cd2c65a",
   "metadata": {},
   "outputs": [],
   "source": [
    "# importig all the required packages for web scraping using Selenium\n",
    "\n",
    "import selenium\n",
    "from selenium import webdriver\n",
    "from selenium.webdriver.common.by import By\n",
    "import requests\n",
    "import pandas as pd\n",
    "import time\n",
    "import warnings\n",
    "warnings.filterwarnings('ignore')"
   ]
  },
  {
   "cell_type": "markdown",
   "id": "3ec60664",
   "metadata": {},
   "source": [
    "# Scraping the site Naukri:\n",
    "    https://www.naukri.com/"
   ]
  },
  {
   "cell_type": "code",
   "execution_count": 2,
   "id": "5377eb0c",
   "metadata": {},
   "outputs": [],
   "source": [
    "# Initialize the driver\n",
    "\n",
    "driver = webdriver.Chrome()"
   ]
  },
  {
   "cell_type": "code",
   "execution_count": 3,
   "id": "bb01c168",
   "metadata": {},
   "outputs": [],
   "source": [
    "# Initialize the driver with Naukri\n",
    "\n",
    "driver.get('https://www.naukri.com/')"
   ]
  },
  {
   "cell_type": "code",
   "execution_count": 4,
   "id": "abfe2c63",
   "metadata": {},
   "outputs": [],
   "source": [
    "# Entering the designation\n",
    "\n",
    "designation = driver.find_element(By.XPATH, '//div[@class=\"suggestor-box flex-row flex-wrap bottom \"]/input')\n",
    "designation.send_keys('Data Scientist')"
   ]
  },
  {
   "cell_type": "code",
   "execution_count": 5,
   "id": "c8aa298a",
   "metadata": {},
   "outputs": [],
   "source": [
    "# Entering search\n",
    "\n",
    "search = driver.find_element(By.XPATH, '//div[@class=\"qsbSubmit\"]')\n",
    "search.click()"
   ]
  },
  {
   "cell_type": "code",
   "execution_count": 7,
   "id": "28430c79",
   "metadata": {},
   "outputs": [],
   "source": [
    "# Applying the filters\n",
    "\n",
    "loc = driver.find_element(By.XPATH, '/html/body/div/div/main/div[1]/div[1]/div/div/div[2]/div[4]/div[2]/div[3]/label/p')\n",
    "loc.click()\n"
   ]
  },
  {
   "cell_type": "code",
   "execution_count": 8,
   "id": "1027fbeb",
   "metadata": {},
   "outputs": [],
   "source": [
    "\n",
    "package = driver.find_element(By.XPATH, '/html/body/div/div/main/div[1]/div[1]/div/div/div[2]/div[5]/div[2]/div[2]/label/p')\n",
    "package.click()"
   ]
  },
  {
   "cell_type": "code",
   "execution_count": null,
   "id": "0c94d8a5",
   "metadata": {},
   "outputs": [],
   "source": []
  },
  {
   "cell_type": "code",
   "execution_count": 22,
   "id": "5a924479",
   "metadata": {},
   "outputs": [
    {
     "name": "stdout",
     "output_type": "stream",
     "text": [
      "['Data Scien', 'Data Scien', 'Data Scien', 'Data Analy', 'Big Data E', '', '', '', 'Data Scien', 'Data scien']\n",
      "10\n"
     ]
    }
   ],
   "source": [
    "# Scraping details of job title\n",
    "\n",
    "Job_title = []\n",
    "\n",
    "title_tags = driver.find_elements(By.XPATH, '//div[@class=\" row1\"]/a')\n",
    "for i in title_tags[:10]:\n",
    "    title = i.text\n",
    "    Job_title.append(title[:10])\n",
    "print(Job_title)\n",
    "print(len(Job_title))"
   ]
  },
  {
   "cell_type": "code",
   "execution_count": 23,
   "id": "086625f7",
   "metadata": {},
   "outputs": [
    {
     "name": "stdout",
     "output_type": "stream",
     "text": [
      "['Delhi / NCR, Pune, Bengaluru', 'Gurugram', 'Kolkata, Mumbai, New Delhi, Hyderabad, Pune, Chennai, Bengaluru', 'New Delhi', 'Gurugram', 'Mumbai, Gurugram', 'Gurugram, Bengaluru', 'Gurugram', 'Noida', 'Noida']\n",
      "10\n"
     ]
    }
   ],
   "source": [
    "# Scraping details of job location\n",
    "\n",
    "job_loc = []\n",
    "\n",
    "loc_tags = driver.find_elements(By.XPATH, '//span[@class=\"ni-job-tuple-icon ni-job-tuple-icon-srp-location loc\"]/span')\n",
    "for i in loc_tags[:10]:\n",
    "    location = i.text\n",
    "    job_loc.append(location)\n",
    "    \n",
    "print(job_loc)\n",
    "print(len(job_loc))"
   ]
  },
  {
   "cell_type": "code",
   "execution_count": 24,
   "id": "82c80b21",
   "metadata": {},
   "outputs": [
    {
     "name": "stdout",
     "output_type": "stream",
     "text": [
      "['Wipro', 'Flutter', 'Essenware', 'Sociomix', 'Growthjockey', 'PayU', 'PayU', 'Orange Business Services', 'Ericsson', 'Times Internet']\n",
      "10\n"
     ]
    }
   ],
   "source": [
    "# Scraping details of job company name\n",
    "\n",
    "company_name = []\n",
    "\n",
    "company_tags = driver.find_elements(By.XPATH, '//div[@class=\" row2\"]/span/a[1]')\n",
    "for i in company_tags[:10]:\n",
    "    company = i.text\n",
    "    company_name.append(company)\n",
    "    \n",
    "print(company_name)\n",
    "\n",
    "print(len(company_name))"
   ]
  },
  {
   "cell_type": "code",
   "execution_count": 25,
   "id": "8c20295a",
   "metadata": {},
   "outputs": [
    {
     "name": "stdout",
     "output_type": "stream",
     "text": [
      "['Job Description: • work closely with your business to identify issues and use data to p...', 'Your desire to solve analytically complex problems and give your team the winning intel...', 'To ensure successful initiation, planning, execution, control and completion of the ...', 'Experience: 0-5 years .', 'Master s Degree in Computer Science, Statistics, Applied Math or related field . 0-1 ye...', 'A degree in Statistics, Computer Science, Mathematics or other similar quantitative fie...', 'Degree (BE / BTech / MS, PhD or equivalent) in Computer Science, Mathematics, Operation...', 'extensive experience in between 3-5years of the following domains: Data Science, Machin...', '- Implement technical requirements by analyzing and optimizing their needs while ma...', '. Bachelors or Masters degree in computer science, statistics, mathematics, or a relate...']\n",
      "10\n"
     ]
    }
   ],
   "source": [
    "# Scraping details of job description\n",
    "\n",
    "job_description = []\n",
    "\n",
    "job_desc = driver.find_elements(By.XPATH, '//div[@class=\" row4\"]/span')\n",
    "for i in job_desc[:10]:\n",
    "    description = i.text\n",
    "    job_description.append(description)\n",
    "    \n",
    "print(job_description)\n",
    "print(len(job_description))"
   ]
  },
  {
   "cell_type": "code",
   "execution_count": 26,
   "id": "c36ec730",
   "metadata": {},
   "outputs": [
    {
     "name": "stdout",
     "output_type": "stream",
     "text": [
      "['Not disclosed', 'Not disclosed', 'Not disclosed', 'Not disclosed', 'Not disclosed', 'Not disclosed', 'Not disclosed', 'Not disclosed', 'Not disclosed', 'Not disclosed']\n",
      "10\n"
     ]
    }
   ],
   "source": [
    "# Scraping details of job salary package but seems to be disclosed\n",
    "\n",
    "salary = []\n",
    "\n",
    "salary_tags = driver.find_elements(By.XPATH, '//span[@class=\"ni-job-tuple-icon ni-job-tuple-icon-srp-rupee sal\"]/span')\n",
    "for i in salary_tags[:10]:\n",
    "    package = i.text\n",
    "    salary.append(package)\n",
    "    \n",
    "print(salary)\n",
    "print(len(salary))"
   ]
  },
  {
   "cell_type": "code",
   "execution_count": 27,
   "id": "7ec989bc",
   "metadata": {},
   "outputs": [
    {
     "data": {
      "text/html": [
       "<div>\n",
       "<style scoped>\n",
       "    .dataframe tbody tr th:only-of-type {\n",
       "        vertical-align: middle;\n",
       "    }\n",
       "\n",
       "    .dataframe tbody tr th {\n",
       "        vertical-align: top;\n",
       "    }\n",
       "\n",
       "    .dataframe thead th {\n",
       "        text-align: right;\n",
       "    }\n",
       "</style>\n",
       "<table border=\"1\" class=\"dataframe\">\n",
       "  <thead>\n",
       "    <tr style=\"text-align: right;\">\n",
       "      <th></th>\n",
       "      <th>Title</th>\n",
       "      <th>Location</th>\n",
       "      <th>Company Name</th>\n",
       "      <th>Job Description</th>\n",
       "    </tr>\n",
       "  </thead>\n",
       "  <tbody>\n",
       "    <tr>\n",
       "      <th>0</th>\n",
       "      <td>Data Scien</td>\n",
       "      <td>Delhi / NCR, Pune, Bengaluru</td>\n",
       "      <td>Wipro</td>\n",
       "      <td>Job Description: • work closely with your busi...</td>\n",
       "    </tr>\n",
       "    <tr>\n",
       "      <th>1</th>\n",
       "      <td>Data Scien</td>\n",
       "      <td>Gurugram</td>\n",
       "      <td>Flutter</td>\n",
       "      <td>Your desire to solve analytically complex prob...</td>\n",
       "    </tr>\n",
       "    <tr>\n",
       "      <th>2</th>\n",
       "      <td>Data Scien</td>\n",
       "      <td>Kolkata, Mumbai, New Delhi, Hyderabad, Pune, C...</td>\n",
       "      <td>Essenware</td>\n",
       "      <td>To ensure successful initiation, planning, exe...</td>\n",
       "    </tr>\n",
       "    <tr>\n",
       "      <th>3</th>\n",
       "      <td>Data Analy</td>\n",
       "      <td>New Delhi</td>\n",
       "      <td>Sociomix</td>\n",
       "      <td>Experience: 0-5 years .</td>\n",
       "    </tr>\n",
       "    <tr>\n",
       "      <th>4</th>\n",
       "      <td>Big Data E</td>\n",
       "      <td>Gurugram</td>\n",
       "      <td>Growthjockey</td>\n",
       "      <td>Master s Degree in Computer Science, Statistic...</td>\n",
       "    </tr>\n",
       "    <tr>\n",
       "      <th>5</th>\n",
       "      <td></td>\n",
       "      <td>Mumbai, Gurugram</td>\n",
       "      <td>PayU</td>\n",
       "      <td>A degree in Statistics, Computer Science, Math...</td>\n",
       "    </tr>\n",
       "    <tr>\n",
       "      <th>6</th>\n",
       "      <td></td>\n",
       "      <td>Gurugram, Bengaluru</td>\n",
       "      <td>PayU</td>\n",
       "      <td>Degree (BE / BTech / MS, PhD or equivalent) in...</td>\n",
       "    </tr>\n",
       "    <tr>\n",
       "      <th>7</th>\n",
       "      <td></td>\n",
       "      <td>Gurugram</td>\n",
       "      <td>Orange Business Services</td>\n",
       "      <td>extensive experience in between 3-5years of th...</td>\n",
       "    </tr>\n",
       "    <tr>\n",
       "      <th>8</th>\n",
       "      <td>Data Scien</td>\n",
       "      <td>Noida</td>\n",
       "      <td>Ericsson</td>\n",
       "      <td>- Implement technical requirements by analyzin...</td>\n",
       "    </tr>\n",
       "    <tr>\n",
       "      <th>9</th>\n",
       "      <td>Data scien</td>\n",
       "      <td>Noida</td>\n",
       "      <td>Times Internet</td>\n",
       "      <td>. Bachelors or Masters degree in computer scie...</td>\n",
       "    </tr>\n",
       "  </tbody>\n",
       "</table>\n",
       "</div>"
      ],
      "text/plain": [
       "        Title                                           Location  \\\n",
       "0  Data Scien                       Delhi / NCR, Pune, Bengaluru   \n",
       "1  Data Scien                                           Gurugram   \n",
       "2  Data Scien  Kolkata, Mumbai, New Delhi, Hyderabad, Pune, C...   \n",
       "3  Data Analy                                          New Delhi   \n",
       "4  Big Data E                                           Gurugram   \n",
       "5                                               Mumbai, Gurugram   \n",
       "6                                            Gurugram, Bengaluru   \n",
       "7                                                       Gurugram   \n",
       "8  Data Scien                                              Noida   \n",
       "9  Data scien                                              Noida   \n",
       "\n",
       "               Company Name                                    Job Description  \n",
       "0                     Wipro  Job Description: • work closely with your busi...  \n",
       "1                   Flutter  Your desire to solve analytically complex prob...  \n",
       "2                 Essenware  To ensure successful initiation, planning, exe...  \n",
       "3                  Sociomix                            Experience: 0-5 years .  \n",
       "4              Growthjockey  Master s Degree in Computer Science, Statistic...  \n",
       "5                      PayU  A degree in Statistics, Computer Science, Math...  \n",
       "6                      PayU  Degree (BE / BTech / MS, PhD or equivalent) in...  \n",
       "7  Orange Business Services  extensive experience in between 3-5years of th...  \n",
       "8                  Ericsson  - Implement technical requirements by analyzin...  \n",
       "9            Times Internet  . Bachelors or Masters degree in computer scie...  "
      ]
     },
     "execution_count": 27,
     "metadata": {},
     "output_type": "execute_result"
    }
   ],
   "source": [
    "# Creating the DataFrame for 10 job details\n",
    "\n",
    "df = pd.DataFrame({'Title':Job_title, 'Location':job_loc, 'Company Name':company_name, 'Job Description':job_description})\n",
    "df"
   ]
  },
  {
   "cell_type": "code",
   "execution_count": null,
   "id": "252de90a",
   "metadata": {},
   "outputs": [],
   "source": []
  },
  {
   "cell_type": "code",
   "execution_count": null,
   "id": "763e47be",
   "metadata": {},
   "outputs": [],
   "source": []
  },
  {
   "cell_type": "markdown",
   "id": "729c1694",
   "metadata": {},
   "source": [
    "# Scraping for site Shine :\n",
    "    https://www.shine.com/ "
   ]
  },
  {
   "cell_type": "code",
   "execution_count": 3,
   "id": "fc29f5ef",
   "metadata": {},
   "outputs": [],
   "source": [
    "import selenium\n",
    "from selenium import webdriver\n",
    "from selenium.webdriver.common.by import By\n",
    "import warnings\n",
    "warnings.filterwarnings('ignore')\n",
    "import time\n",
    "import pandas as pd"
   ]
  },
  {
   "cell_type": "code",
   "execution_count": 4,
   "id": "0939cb0d",
   "metadata": {},
   "outputs": [],
   "source": [
    "# Initialize the driver\n",
    "\n",
    "driver1 = webdriver.Chrome()"
   ]
  },
  {
   "cell_type": "code",
   "execution_count": 6,
   "id": "2f00c345",
   "metadata": {},
   "outputs": [],
   "source": [
    "# Initialize the driver with Shine\n",
    "\n",
    "driver1.get('https://www.shine.com/')"
   ]
  },
  {
   "cell_type": "code",
   "execution_count": 9,
   "id": "401d790f",
   "metadata": {},
   "outputs": [],
   "source": [
    "# Entering the Designation\n",
    "\n",
    "designation = driver1.find_element(By.CLASS_NAME, \"form-control  \")\n",
    "designation.send_keys('Data Scientist')"
   ]
  },
  {
   "cell_type": "code",
   "execution_count": 10,
   "id": "ad809f35",
   "metadata": {},
   "outputs": [],
   "source": [
    "# Entering the Location\n",
    "\n",
    "loc = driver1.find_element(By.XPATH, '//li[@class=\"jobSearchForm_search_item__85hKe form-group\"]/div/input')\n",
    "loc.send_keys('Bangalore')"
   ]
  },
  {
   "cell_type": "code",
   "execution_count": 11,
   "id": "9609dd22",
   "metadata": {},
   "outputs": [],
   "source": [
    "# Clicking the search button\n",
    "\n",
    "search = driver1.find_element(By.XPATH, '//div[@class=\"searchForm_btnWrap_advance__VYBHN\"]/button')\n",
    "search.click()"
   ]
  },
  {
   "cell_type": "code",
   "execution_count": null,
   "id": "068002e6",
   "metadata": {},
   "outputs": [],
   "source": []
  },
  {
   "cell_type": "raw",
   "id": "92e65545",
   "metadata": {},
   "source": [
    "Scraping the Job details:"
   ]
  },
  {
   "cell_type": "code",
   "execution_count": 20,
   "id": "dcea0ebc",
   "metadata": {},
   "outputs": [
    {
     "name": "stdout",
     "output_type": "stream",
     "text": [
      "['Data Scientist', 'Data Scientist', 'Data Scientist Recruitment', 'Data Scientist', 'Data Scientist', 'Hiring For Data Scientist', 'Data Scientist', 'Senior Associate Data Engineering Level 2', 'Hr Data Analyst', 'Data Analyst']\n",
      "10\n"
     ]
    }
   ],
   "source": [
    "# Scraping the Job titles:\n",
    "\n",
    "job_title = []\n",
    "\n",
    "title_tag = driver1.find_elements(By.XPATH, '//strong[@class=\"jobCard_pReplaceH2__xWmHg\"]/p/a')\n",
    "for i in title_tag[:10]:\n",
    "    title = i.text\n",
    "    job_title.append(title)\n",
    "    \n",
    "print(job_title)\n",
    "print(len(job_title))"
   ]
  },
  {
   "cell_type": "code",
   "execution_count": 21,
   "id": "b2222b55",
   "metadata": {},
   "outputs": [
    {
     "name": "stdout",
     "output_type": "stream",
     "text": [
      "['Bangalore', '3 to 8 Yrs\\n5 Positions', 'Bangalore\\n+1', '2 to 6 Yrs\\n10 Positions', 'Bangalore\\n+13', '0 to 4 Yrs\\n98 Positions', 'Bangalore', '3 to 6 Yrs\\n4 Positions', 'Bangalore\\n+10', '18 to >25 Yrs\\n99 Positions']\n",
      "10\n"
     ]
    }
   ],
   "source": [
    "# Scraping the Job Location:\n",
    "\n",
    "job_location = []\n",
    "\n",
    "loc_tag = driver1.find_elements(By.XPATH, '//div[@class=\"jobCard_jobCard_lists__fdnsc\"]/div')\n",
    "for i in loc_tag[:10]:\n",
    "    location = i.text\n",
    "    job_location.append(location)\n",
    "    \n",
    "print(job_location)\n",
    "print(len(job_location))"
   ]
  },
  {
   "cell_type": "code",
   "execution_count": 22,
   "id": "12a46c65",
   "metadata": {},
   "outputs": [
    {
     "name": "stdout",
     "output_type": "stream",
     "text": [
      "['comosrich it & consulting services', 'dotcod innovation private limited', 'kavya interprises', 'meraki it solutions', 'vaishnavi services', 'neelima staffing solution', 'talent toppers llp', 'tlg india private limited', 'leverage business solutions private...', 'aryan technology']\n",
      "10\n"
     ]
    }
   ],
   "source": [
    "# Scraping the Company Name:\n",
    "\n",
    "company_name = []\n",
    "\n",
    "comp_tag = driver1.find_elements(By.XPATH, '//div[@class=\"jobCard_jobCard_cName__mYnow\"]')\n",
    "for i in comp_tag[:10]:\n",
    "    company = i.text\n",
    "    company_name.append(company)\n",
    "    \n",
    "print(company_name)\n",
    "print(len(company_name))"
   ]
  },
  {
   "cell_type": "code",
   "execution_count": 23,
   "id": "a12ca27c",
   "metadata": {},
   "outputs": [
    {
     "name": "stdout",
     "output_type": "stream",
     "text": [
      "['3 to 8 Yrs', '2 to 6 Yrs', '0 to 4 Yrs', '3 to 6 Yrs', '18 to >25 Yrs', '0 to 4 Yrs', '0 to 3 Yrs', '5 to 9 Yrs', '4 to 8 Yrs', '0 to 4 Yrs']\n",
      "10\n"
     ]
    }
   ],
   "source": [
    "# Scraping the Experience Required:\n",
    "\n",
    "exp_req = []\n",
    "\n",
    "exp_tag = driver1.find_elements(By.XPATH, '//div[@class=\" jobCard_jobCard_lists_item__YxRkV jobCard_jobIcon__3FB1t\"]')\n",
    "for i in exp_tag[:10]:\n",
    "    exp = i.text\n",
    "    exp_req.append(exp)\n",
    "    \n",
    "print(exp_req)\n",
    "print(len(exp_req))"
   ]
  },
  {
   "cell_type": "code",
   "execution_count": 26,
   "id": "5be0c8a0",
   "metadata": {},
   "outputs": [
    {
     "name": "stdout",
     "output_type": "stream",
     "text": [
      "['5 Positions', '10 Positions', '98 Positions', '4 Positions', '99 Positions', '89 Positions', '50 Positions', '20 Positions', '2 Positions', '10 Positions']\n",
      "10\n"
     ]
    }
   ],
   "source": [
    "# Scraping the Positions Available:\n",
    "\n",
    "position_avail = []\n",
    "\n",
    "position_tag = driver1.find_elements(By.XPATH, '//div[@class=\" jobCard_jobCard_lists_item__YxRkV jobCard_positionIcon__2hhkm\"]/li')\n",
    "for i in position_tag[:10]:\n",
    "    position = i.text\n",
    "    position_avail.append(position)\n",
    "    \n",
    "print(position_avail)\n",
    "print(len(position_avail))"
   ]
  },
  {
   "cell_type": "code",
   "execution_count": 24,
   "id": "3cc3b4de",
   "metadata": {},
   "outputs": [
    {
     "name": "stdout",
     "output_type": "stream",
     "text": [
      "['coding • programming • data science+4', 'sql • numpy • python+2', 'computer science • machine learning+3', 'opencv • data science+7', 'graphical models+9', 'machine learning • sql • python+2', 'sql • machine learning+3', 'scala • hadoop • python • big data+4', 'sql • data • hr • hr analytics+3', 'time series analysis+5']\n",
      "10\n"
     ]
    }
   ],
   "source": [
    "# Scraping the Skills Required:\n",
    "\n",
    "skills_req = []\n",
    "\n",
    "skill_tag = driver1.find_elements(By.XPATH, '//div[@class=\"jobCard_skillList__KKExE\"]')\n",
    "for i in skill_tag[:10]:\n",
    "    skill = i.text\n",
    "    skills_req.append(skill)\n",
    "    \n",
    "print(skills_req)\n",
    "print(len(skills_req))"
   ]
  },
  {
   "cell_type": "code",
   "execution_count": 27,
   "id": "03fe16f2",
   "metadata": {},
   "outputs": [
    {
     "data": {
      "text/html": [
       "<div>\n",
       "<style scoped>\n",
       "    .dataframe tbody tr th:only-of-type {\n",
       "        vertical-align: middle;\n",
       "    }\n",
       "\n",
       "    .dataframe tbody tr th {\n",
       "        vertical-align: top;\n",
       "    }\n",
       "\n",
       "    .dataframe thead th {\n",
       "        text-align: right;\n",
       "    }\n",
       "</style>\n",
       "<table border=\"1\" class=\"dataframe\">\n",
       "  <thead>\n",
       "    <tr style=\"text-align: right;\">\n",
       "      <th></th>\n",
       "      <th>Title</th>\n",
       "      <th>Company Name</th>\n",
       "      <th>Positions Available</th>\n",
       "      <th>Skills Required</th>\n",
       "    </tr>\n",
       "  </thead>\n",
       "  <tbody>\n",
       "    <tr>\n",
       "      <th>0</th>\n",
       "      <td>Data Scientist</td>\n",
       "      <td>comosrich it &amp; consulting services</td>\n",
       "      <td>5 Positions</td>\n",
       "      <td>coding • programming • data science+4</td>\n",
       "    </tr>\n",
       "    <tr>\n",
       "      <th>1</th>\n",
       "      <td>Data Scientist</td>\n",
       "      <td>dotcod innovation private limited</td>\n",
       "      <td>10 Positions</td>\n",
       "      <td>sql • numpy • python+2</td>\n",
       "    </tr>\n",
       "    <tr>\n",
       "      <th>2</th>\n",
       "      <td>Data Scientist Recruitment</td>\n",
       "      <td>kavya interprises</td>\n",
       "      <td>98 Positions</td>\n",
       "      <td>computer science • machine learning+3</td>\n",
       "    </tr>\n",
       "    <tr>\n",
       "      <th>3</th>\n",
       "      <td>Data Scientist</td>\n",
       "      <td>meraki it solutions</td>\n",
       "      <td>4 Positions</td>\n",
       "      <td>opencv • data science+7</td>\n",
       "    </tr>\n",
       "    <tr>\n",
       "      <th>4</th>\n",
       "      <td>Data Scientist</td>\n",
       "      <td>vaishnavi services</td>\n",
       "      <td>99 Positions</td>\n",
       "      <td>graphical models+9</td>\n",
       "    </tr>\n",
       "    <tr>\n",
       "      <th>5</th>\n",
       "      <td>Hiring For Data Scientist</td>\n",
       "      <td>neelima staffing solution</td>\n",
       "      <td>89 Positions</td>\n",
       "      <td>machine learning • sql • python+2</td>\n",
       "    </tr>\n",
       "    <tr>\n",
       "      <th>6</th>\n",
       "      <td>Data Scientist</td>\n",
       "      <td>talent toppers llp</td>\n",
       "      <td>50 Positions</td>\n",
       "      <td>sql • machine learning+3</td>\n",
       "    </tr>\n",
       "    <tr>\n",
       "      <th>7</th>\n",
       "      <td>Senior Associate Data Engineering Level 2</td>\n",
       "      <td>tlg india private limited</td>\n",
       "      <td>20 Positions</td>\n",
       "      <td>scala • hadoop • python • big data+4</td>\n",
       "    </tr>\n",
       "    <tr>\n",
       "      <th>8</th>\n",
       "      <td>Hr Data Analyst</td>\n",
       "      <td>leverage business solutions private...</td>\n",
       "      <td>2 Positions</td>\n",
       "      <td>sql • data • hr • hr analytics+3</td>\n",
       "    </tr>\n",
       "    <tr>\n",
       "      <th>9</th>\n",
       "      <td>Data Analyst</td>\n",
       "      <td>aryan technology</td>\n",
       "      <td>10 Positions</td>\n",
       "      <td>time series analysis+5</td>\n",
       "    </tr>\n",
       "  </tbody>\n",
       "</table>\n",
       "</div>"
      ],
      "text/plain": [
       "                                       Title  \\\n",
       "0                             Data Scientist   \n",
       "1                             Data Scientist   \n",
       "2                 Data Scientist Recruitment   \n",
       "3                             Data Scientist   \n",
       "4                             Data Scientist   \n",
       "5                  Hiring For Data Scientist   \n",
       "6                             Data Scientist   \n",
       "7  Senior Associate Data Engineering Level 2   \n",
       "8                            Hr Data Analyst   \n",
       "9                               Data Analyst   \n",
       "\n",
       "                             Company Name Positions Available  \\\n",
       "0      comosrich it & consulting services         5 Positions   \n",
       "1       dotcod innovation private limited        10 Positions   \n",
       "2                       kavya interprises        98 Positions   \n",
       "3                     meraki it solutions         4 Positions   \n",
       "4                      vaishnavi services        99 Positions   \n",
       "5               neelima staffing solution        89 Positions   \n",
       "6                      talent toppers llp        50 Positions   \n",
       "7               tlg india private limited        20 Positions   \n",
       "8  leverage business solutions private...         2 Positions   \n",
       "9                        aryan technology        10 Positions   \n",
       "\n",
       "                         Skills Required  \n",
       "0  coding • programming • data science+4  \n",
       "1                 sql • numpy • python+2  \n",
       "2  computer science • machine learning+3  \n",
       "3                opencv • data science+7  \n",
       "4                     graphical models+9  \n",
       "5      machine learning • sql • python+2  \n",
       "6               sql • machine learning+3  \n",
       "7   scala • hadoop • python • big data+4  \n",
       "8       sql • data • hr • hr analytics+3  \n",
       "9                 time series analysis+5  "
      ]
     },
     "execution_count": 27,
     "metadata": {},
     "output_type": "execute_result"
    }
   ],
   "source": [
    "# Creating the DataFrame for 10 Job Details:\n",
    "\n",
    "df = pd.DataFrame({'Title':job_title, 'Company Name':company_name, 'Positions Available':position_avail, 'Skills Required':skills_req})\n",
    "df[:10]"
   ]
  },
  {
   "cell_type": "code",
   "execution_count": null,
   "id": "927a41eb",
   "metadata": {},
   "outputs": [],
   "source": []
  },
  {
   "cell_type": "markdown",
   "id": "14cdc0c5",
   "metadata": {},
   "source": [
    "# Scraping for site Flipkart:\n",
    "    https://www.flipkart.com/apple-iphone-11-black-64-gb/product-reviews/itm4e5041ba101fd?pid=MOBFWQ6BXGJCEYNY&lid=LSTMOBFWQ6BXGJCEYNYZXSHRJ&marketplace=FLIPKART"
   ]
  },
  {
   "cell_type": "code",
   "execution_count": 54,
   "id": "b81931e7",
   "metadata": {},
   "outputs": [],
   "source": [
    "import selenium\n",
    "from selenium import webdriver\n",
    "from selenium.webdriver.common.by import By\n",
    "import warnings\n",
    "warnings.filterwarnings('ignore')\n",
    "import pandas as pd\n",
    "import time"
   ]
  },
  {
   "cell_type": "code",
   "execution_count": 29,
   "id": "30692aec",
   "metadata": {},
   "outputs": [],
   "source": [
    "driver2 = webdriver.Chrome()"
   ]
  },
  {
   "cell_type": "code",
   "execution_count": 30,
   "id": "f6cef4e4",
   "metadata": {},
   "outputs": [],
   "source": [
    "driver2.get('https://www.flipkart.com/apple-iphone-11-black-64-gb/product-reviews/itm4e5041ba101fd?pid=MOBFWQ6BXGJCEYNY&lid=LSTMOBFWQ6BXGJCEYNYZXSHRJ&marketplace=FLIPKART')"
   ]
  },
  {
   "cell_type": "code",
   "execution_count": 33,
   "id": "79e16837",
   "metadata": {},
   "outputs": [
    {
     "name": "stdout",
     "output_type": "stream",
     "text": [
      "['5', '5', '5', '5', '5', '5', '5', '5', '5', '5']\n",
      "10\n"
     ]
    }
   ],
   "source": [
    "# Scraping the Rating out of 5:\n",
    "\n",
    "rating = []\n",
    "\n",
    "rate_tag = driver2.find_elements(By.XPATH, '//div[@class=\"XQDdHH Ga3i8K\"]')\n",
    "for i in rate_tag:\n",
    "    rate = i.text\n",
    "    rating.append(rate)\n",
    "    \n",
    "print(rating)\n",
    "print(len(rating))"
   ]
  },
  {
   "cell_type": "code",
   "execution_count": 34,
   "id": "1ff5be77",
   "metadata": {},
   "outputs": [
    {
     "name": "stdout",
     "output_type": "stream",
     "text": [
      "['Worth every penny', 'Terrific', 'Best in the market!', 'Must buy!', 'Awesome', 'Wonderful', 'Just wow!', 'Classy product', 'Perfect product!', 'Fabulous!']\n",
      "10\n"
     ]
    }
   ],
   "source": [
    "# Scraping the review of customers:\n",
    "\n",
    "reviews = []\n",
    "\n",
    "review_tag = driver2.find_elements(By.XPATH, '//p[@class=\"z9E0IG\"]')\n",
    "for i in review_tag:\n",
    "    review = i.text\n",
    "    reviews.append(review)\n",
    "    \n",
    "print(reviews)\n",
    "print(len(reviews))"
   ]
  },
  {
   "cell_type": "code",
   "execution_count": 35,
   "id": "a4478b95",
   "metadata": {},
   "outputs": [
    {
     "name": "stdout",
     "output_type": "stream",
     "text": [
      "['Feeling awesome after getting the delivery of my phone. Dual speakers makes the sound quality very loud. Amazing!!', 'Very very good', 'Good Camera', 'It’s really awesome', 'iPhone 11 is a good phone. Not a very big difference between 12 except for the OLED screen and a very minor camera improvement which is you cant make a difference. If you are planning for a iPhone and you have budget you definitely can go for this without second thoughts.\\nNow some people are complaining and giving review 0 or so because there is no charger and headphones, but thats been already mentioned so I assume they are illiterate. Its not that Flipkart is removing them duh. Anyways bee...\\nREAD MORE', 'This is amazing at all', 'Perfect Product!!', 'Camera is awesome\\nBest battery backup\\nA performer 👌🏻\\nIt will be a real value for money if they provide charger and earphone inbox!', 'Photos super', 'It’s very good battery life and display and video quality and ther performance of iPhone.....🔥🔥🌈']\n",
      "10\n"
     ]
    }
   ],
   "source": [
    "# Scraping the comments on the reviews of customers:\n",
    "\n",
    "review_comments = []\n",
    "\n",
    "comment_tag = driver2.find_elements(By.XPATH, '//div[@class=\"ZmyHeo\"]/div')\n",
    "for i in comment_tag:\n",
    "    comment = i.text\n",
    "    review_comments.append(comment)\n",
    "    \n",
    "print(review_comments)\n",
    "print(len(review_comments))"
   ]
  },
  {
   "cell_type": "code",
   "execution_count": null,
   "id": "530e7345",
   "metadata": {},
   "outputs": [],
   "source": []
  },
  {
   "cell_type": "code",
   "execution_count": null,
   "id": "5d85ee5b",
   "metadata": {},
   "outputs": [],
   "source": [
    "# Scraping 100 products data:\n",
    "\n",
    "start = 0\n",
    "end = 10\n",
    "\n",
    "for page in range(start, end):\n",
    "    rate_tag = driver2.find_elements(By.XPATH, '//div[@class=\"XQDdHH Ga3i8K\"]')\n",
    "    for i in rate_tag[:100]:\n",
    "        rating.append(i.text)\n",
    "    \n",
    "    review_tag = driver2.find_elements(By.XPATH, '//p[@class=\"z9E0IG\"]')\n",
    "    for i in review_tag[:100]:\n",
    "        reviews.append(i.text)\n",
    "        \n",
    "    comment_tag = driver2.find_elements(By.XPATH, '//div[@class=\"ZmyHeo\"]/div')\n",
    "    for i in comment_tag[:100]:\n",
    "        review_comments.append(i.text)\n",
    "    \n",
    "    next_button = driver2.find_element(By.XPATH, '//a[@class=\"_9QVEpD\"]/span')\n",
    "    next_button.click()\n",
    "    time.sleep(3)"
   ]
  },
  {
   "cell_type": "code",
   "execution_count": 40,
   "id": "89703d23",
   "metadata": {},
   "outputs": [
    {
     "data": {
      "text/html": [
       "<div>\n",
       "<style scoped>\n",
       "    .dataframe tbody tr th:only-of-type {\n",
       "        vertical-align: middle;\n",
       "    }\n",
       "\n",
       "    .dataframe tbody tr th {\n",
       "        vertical-align: top;\n",
       "    }\n",
       "\n",
       "    .dataframe thead th {\n",
       "        text-align: right;\n",
       "    }\n",
       "</style>\n",
       "<table border=\"1\" class=\"dataframe\">\n",
       "  <thead>\n",
       "    <tr style=\"text-align: right;\">\n",
       "      <th></th>\n",
       "      <th>Ratings</th>\n",
       "      <th>Reviews</th>\n",
       "      <th>Review Comments</th>\n",
       "    </tr>\n",
       "  </thead>\n",
       "  <tbody>\n",
       "    <tr>\n",
       "      <th>0</th>\n",
       "      <td>5</td>\n",
       "      <td>Worth every penny</td>\n",
       "      <td>Feeling awesome after getting the delivery of ...</td>\n",
       "    </tr>\n",
       "    <tr>\n",
       "      <th>1</th>\n",
       "      <td>5</td>\n",
       "      <td>Terrific</td>\n",
       "      <td>Very very good</td>\n",
       "    </tr>\n",
       "    <tr>\n",
       "      <th>2</th>\n",
       "      <td>5</td>\n",
       "      <td>Best in the market!</td>\n",
       "      <td>Good Camera</td>\n",
       "    </tr>\n",
       "    <tr>\n",
       "      <th>3</th>\n",
       "      <td>5</td>\n",
       "      <td>Must buy!</td>\n",
       "      <td>It’s really awesome</td>\n",
       "    </tr>\n",
       "    <tr>\n",
       "      <th>4</th>\n",
       "      <td>5</td>\n",
       "      <td>Awesome</td>\n",
       "      <td>iPhone 11 is a good phone. Not a very big diff...</td>\n",
       "    </tr>\n",
       "    <tr>\n",
       "      <th>...</th>\n",
       "      <td>...</td>\n",
       "      <td>...</td>\n",
       "      <td>...</td>\n",
       "    </tr>\n",
       "    <tr>\n",
       "      <th>95</th>\n",
       "      <td>5</td>\n",
       "      <td>Wonderful</td>\n",
       "      <td>This is amazing at all</td>\n",
       "    </tr>\n",
       "    <tr>\n",
       "      <th>96</th>\n",
       "      <td>5</td>\n",
       "      <td>Just wow!</td>\n",
       "      <td>Perfect Product!!</td>\n",
       "    </tr>\n",
       "    <tr>\n",
       "      <th>97</th>\n",
       "      <td>5</td>\n",
       "      <td>Classy product</td>\n",
       "      <td>Camera is awesome\\nBest battery backup\\nA perf...</td>\n",
       "    </tr>\n",
       "    <tr>\n",
       "      <th>98</th>\n",
       "      <td>5</td>\n",
       "      <td>Perfect product!</td>\n",
       "      <td>Photos super</td>\n",
       "    </tr>\n",
       "    <tr>\n",
       "      <th>99</th>\n",
       "      <td>5</td>\n",
       "      <td>Fabulous!</td>\n",
       "      <td>It’s very good battery life and display and vi...</td>\n",
       "    </tr>\n",
       "  </tbody>\n",
       "</table>\n",
       "<p>100 rows × 3 columns</p>\n",
       "</div>"
      ],
      "text/plain": [
       "   Ratings              Reviews  \\\n",
       "0        5    Worth every penny   \n",
       "1        5             Terrific   \n",
       "2        5  Best in the market!   \n",
       "3        5            Must buy!   \n",
       "4        5              Awesome   \n",
       "..     ...                  ...   \n",
       "95       5            Wonderful   \n",
       "96       5            Just wow!   \n",
       "97       5       Classy product   \n",
       "98       5     Perfect product!   \n",
       "99       5            Fabulous!   \n",
       "\n",
       "                                      Review Comments  \n",
       "0   Feeling awesome after getting the delivery of ...  \n",
       "1                                      Very very good  \n",
       "2                                         Good Camera  \n",
       "3                                 It’s really awesome  \n",
       "4   iPhone 11 is a good phone. Not a very big diff...  \n",
       "..                                                ...  \n",
       "95                             This is amazing at all  \n",
       "96                                  Perfect Product!!  \n",
       "97  Camera is awesome\\nBest battery backup\\nA perf...  \n",
       "98                                       Photos super  \n",
       "99  It’s very good battery life and display and vi...  \n",
       "\n",
       "[100 rows x 3 columns]"
      ]
     },
     "execution_count": 40,
     "metadata": {},
     "output_type": "execute_result"
    }
   ],
   "source": [
    "# Creating the DataFrame:\n",
    "\n",
    "df1 = pd.DataFrame({'Ratings':rating, 'Reviews':reviews, 'Review Comments':review_comments})\n",
    "df1[:100]"
   ]
  },
  {
   "cell_type": "code",
   "execution_count": null,
   "id": "bc4b706d",
   "metadata": {},
   "outputs": [],
   "source": []
  },
  {
   "cell_type": "markdown",
   "id": "ec242dab",
   "metadata": {},
   "source": [
    "# Scraping for the sneakers on Flipkart:\n",
    "    www.flipkart.com"
   ]
  },
  {
   "cell_type": "code",
   "execution_count": 2,
   "id": "bee2cfe1",
   "metadata": {},
   "outputs": [],
   "source": [
    "driver3 = webdriver.Chrome()"
   ]
  },
  {
   "cell_type": "code",
   "execution_count": 3,
   "id": "18e9360f",
   "metadata": {},
   "outputs": [],
   "source": [
    "driver3.get('https://www.flipkart.com/')"
   ]
  },
  {
   "cell_type": "code",
   "execution_count": 4,
   "id": "d07be2cd",
   "metadata": {},
   "outputs": [],
   "source": [
    "# Entering the sneakers\n",
    "\n",
    "sneaker = driver3.find_element(By.XPATH, '//div[@class=\"_2SmNnR\"]/input')\n",
    "sneaker.send_keys('sneakers')"
   ]
  },
  {
   "cell_type": "code",
   "execution_count": 5,
   "id": "77524562",
   "metadata": {},
   "outputs": [],
   "source": [
    "# clicking the search:\n",
    "\n",
    "search = driver3.find_element(By.XPATH, '//div[@class=\"_1sFryS _2alaMB\"]/button')\n",
    "search.click()"
   ]
  },
  {
   "cell_type": "code",
   "execution_count": 17,
   "id": "c96e8149",
   "metadata": {},
   "outputs": [
    {
     "name": "stdout",
     "output_type": "stream",
     "text": [
      "['BRUTON', 'BRUTON', 'PUMA', 'PUMA', 'aadi', 'PUMA', 'BRUTON', 'BRUTON', 'ATOM', 'Abros', 'Aeonik', 'BRUTON', 'U.S. POLO ASSN.', 'Deals4you', 'Roadster', 'Red Tape', 'BRUTON', 'BRUTON', 'PUMA', 'bacca bucci', 'Sparx', 'aadi', 'PUMA', 'PUMA', 'aadi', 'asian', 'BRUTON', 'BRUTON', 'Abros', 'ATOM', 'aadi', 'BRUTON', 'aadi', 'URBANBOX', 'STALAG', 'aadi', 'BRUTON', 'lejano', 'asian', 'VENDOZ']\n",
      "40\n"
     ]
    }
   ],
   "source": [
    "# Scraping the Brand name:\n",
    "\n",
    "brand = []\n",
    "\n",
    "brand_tag = driver3.find_elements(By.XPATH, '//div[@class=\"syl9yP\"]')\n",
    "for i in brand_tag:\n",
    "    branding = i.text\n",
    "    brand.append(branding)\n",
    "    \n",
    "print(brand)\n",
    "print(len(brand))"
   ]
  },
  {
   "cell_type": "code",
   "execution_count": 18,
   "id": "fa94e83c",
   "metadata": {},
   "outputs": [
    {
     "name": "stdout",
     "output_type": "stream",
     "text": [
      "['Modern Trendy Sneakers For Men', 'Exclusive Sneaker Shoes Sneakers For Men', 'Cliff IDP Sneakers For Men', 'Puma knit V3 Sneakers For Men', 'Lightweight,Comfort,Summer,Trendy,Walking,Outdoor,Styli...', 'ST Activate V2 IDP Sneakers For Men', 'Sneaker Sneakers For Men', 'Modern Trendy Shoes Sneakers For Men', 'Supernova Sneakers For Men', 'LEXUS Sneakers For Men', 'OGIY RETRO SHOES HIGH PREMIUM QUALITY Sneakers For Men', 'Trendy & Stylish Casual Shoes Sneakers For Men', 'Sneakers For Men', 'Sneakers For Women', 'Men Black Solid Casual Lightweight Sneakers For Men', 'Sneaker Casual Shoes for Men | Soft Cushioned Insole, S...', 'Combo Pack Of 4 Casual Loafer Shoes Sneakers For Men', 'Modern Trendy Sneakers Shoes Sneakers For Men', 'Puma Tychonic Sneakers For Men', 'OG TerraForge Low-Top Series: Bold Street-Ready Sneaker...', 'SM 734 | Stylish, Comfortable | Sneakers For Men', 'Synthetic Leather |Lightweight|Comfort|Summer|Trendy|Wa...', 'Pacer Styx IDP Sneakers For Men', 'Dexster Slip On IDP Sneakers For Men', 'Sneakers For Men', 'Sneaker Casual Shoes For Men | Soft Cushion Insole || B...', 'Trendy & Stylish Casual Shoes Sneakers For Men', 'Trendy & Stylish Sneakers Shoes Sneakers For Men', 'EPIC Sneakers For Men', 'Spring Edge Alpha 2 Sneakers For Men', 'Mesh |Lightweight|Comfort|Summer|Trendy|Walking|Outdoor...', 'Modern Trendy Shoes Sneakers For Men', 'Aadi Men Black & Green Casual Sneaker Sneakers For Men', 'Trending Stylish Casual Outdoor Shoes Sneakers For Men', 'ogiy retro shoes high premium quality Sneakers For Men', 'Mesh |Lightweight|Comfort|Summer|Trendy|Walking|Outdoor...', 'Modern Trendy Sneakers Shoes Sneakers For Men', 'Sneakers For Men', 'Casual Sneakers Shoes For Men Mexico-11 Sneakers For Me...', 'Casual Stylish Trending Sneakers For Women']\n",
      "40\n"
     ]
    }
   ],
   "source": [
    "# Scraping the product description:\n",
    "\n",
    "description = []\n",
    "\n",
    "descri_tag = driver3.find_elements(By.XPATH, '//div[@class=\"hCKiGj\"]/a[1]')\n",
    "for i in descri_tag:\n",
    "    descri = i.text\n",
    "    description.append(descri)\n",
    "    \n",
    "print(description)\n",
    "print(len(description))"
   ]
  },
  {
   "cell_type": "code",
   "execution_count": 19,
   "id": "d5b903a8",
   "metadata": {},
   "outputs": [
    {
     "name": "stdout",
     "output_type": "stream",
     "text": [
      "['₹297', '₹297', '₹1,047', '₹1,047', '₹299', '₹1,340', '₹297', '₹297', '₹1,685', '₹949', '₹521', '₹297', '₹1,709', '₹399', '₹799', '₹1,379', '₹599', '₹297', '₹1,047', '₹1,699', '₹721', '₹298', '₹1,435', '₹1,298', '₹425', '₹777', '₹498', '₹297', '₹1,799', '₹999', '₹299', '₹449', '₹469', '₹449', '₹750', '₹299', '₹297', '₹578', '₹749', '₹629']\n",
      "40\n"
     ]
    }
   ],
   "source": [
    "# Scraping the product price:\n",
    "\n",
    "price = []\n",
    "\n",
    "price_tag = driver3.find_elements(By.XPATH, '//div[@class=\"Nx9bqj\"]')\n",
    "for i in price_tag:\n",
    "    pricing = i.text\n",
    "    price.append(pricing)\n",
    "    \n",
    "print(price)\n",
    "print(len(price))"
   ]
  },
  {
   "cell_type": "code",
   "execution_count": 20,
   "id": "93e94975",
   "metadata": {},
   "outputs": [],
   "source": [
    "# Scraping 100 product details:\n",
    "\n",
    "start = 0\n",
    "end = 7\n",
    "\n",
    "for page in range(start, end):\n",
    "    brand_tag = driver3.find_elements(By.XPATH, '//div[@class=\"syl9yP\"]')\n",
    "    for i in brand_tag[:100]:\n",
    "        brand.append(i.text)\n",
    "        \n",
    "    descri_tag = driver3.find_elements(By.XPATH, '//div[@class=\"hCKiGj\"]/a[1]')\n",
    "    for i in descri_tag[:100]:\n",
    "        description.append(i.text)\n",
    "        \n",
    "    price_tag = driver3.find_elements(By.XPATH, '//div[@class=\"Nx9bqj\"]')\n",
    "    for i in price_tag[:100]:\n",
    "        price.append(i.text)\n",
    "        \n",
    "    next_button = driver3.find_element(By.XPATH, '//a[@class=\"_9QVEpD\"]/span')\n",
    "    next_button.click()\n",
    "    time.sleep(3)"
   ]
  },
  {
   "cell_type": "code",
   "execution_count": 22,
   "id": "cf525aaa",
   "metadata": {},
   "outputs": [
    {
     "data": {
      "text/html": [
       "<div>\n",
       "<style scoped>\n",
       "    .dataframe tbody tr th:only-of-type {\n",
       "        vertical-align: middle;\n",
       "    }\n",
       "\n",
       "    .dataframe tbody tr th {\n",
       "        vertical-align: top;\n",
       "    }\n",
       "\n",
       "    .dataframe thead th {\n",
       "        text-align: right;\n",
       "    }\n",
       "</style>\n",
       "<table border=\"1\" class=\"dataframe\">\n",
       "  <thead>\n",
       "    <tr style=\"text-align: right;\">\n",
       "      <th></th>\n",
       "      <th>Brand</th>\n",
       "      <th>Product Description</th>\n",
       "      <th>Price</th>\n",
       "    </tr>\n",
       "  </thead>\n",
       "  <tbody>\n",
       "    <tr>\n",
       "      <th>0</th>\n",
       "      <td>BRUTON</td>\n",
       "      <td>Modern Trendy Sneakers For Men</td>\n",
       "      <td>₹297</td>\n",
       "    </tr>\n",
       "    <tr>\n",
       "      <th>1</th>\n",
       "      <td>BRUTON</td>\n",
       "      <td>Exclusive Sneaker Shoes Sneakers For Men</td>\n",
       "      <td>₹297</td>\n",
       "    </tr>\n",
       "    <tr>\n",
       "      <th>2</th>\n",
       "      <td>PUMA</td>\n",
       "      <td>Cliff IDP Sneakers For Men</td>\n",
       "      <td>₹1,047</td>\n",
       "    </tr>\n",
       "    <tr>\n",
       "      <th>3</th>\n",
       "      <td>PUMA</td>\n",
       "      <td>Puma knit V3 Sneakers For Men</td>\n",
       "      <td>₹1,047</td>\n",
       "    </tr>\n",
       "    <tr>\n",
       "      <th>4</th>\n",
       "      <td>aadi</td>\n",
       "      <td>Lightweight,Comfort,Summer,Trendy,Walking,Outd...</td>\n",
       "      <td>₹299</td>\n",
       "    </tr>\n",
       "    <tr>\n",
       "      <th>...</th>\n",
       "      <td>...</td>\n",
       "      <td>...</td>\n",
       "      <td>...</td>\n",
       "    </tr>\n",
       "    <tr>\n",
       "      <th>95</th>\n",
       "      <td>asian</td>\n",
       "      <td>Flat Sole Sneakers Shoes for all Day wear with...</td>\n",
       "      <td>₹777</td>\n",
       "    </tr>\n",
       "    <tr>\n",
       "      <th>96</th>\n",
       "      <td>TERFILL</td>\n",
       "      <td>Multicolor Stylish Casual Sneakers For Women</td>\n",
       "      <td>₹639</td>\n",
       "    </tr>\n",
       "    <tr>\n",
       "      <th>97</th>\n",
       "      <td>K' Footlance</td>\n",
       "      <td>Modern Trendy Sneakers boot Sneakers For Men S...</td>\n",
       "      <td>₹559</td>\n",
       "    </tr>\n",
       "    <tr>\n",
       "      <th>98</th>\n",
       "      <td>asian</td>\n",
       "      <td>Mens High Top Casual Chunky Sneakers Sneakers ...</td>\n",
       "      <td>₹1,033</td>\n",
       "    </tr>\n",
       "    <tr>\n",
       "      <th>99</th>\n",
       "      <td>PUMA</td>\n",
       "      <td>Puma Tychonic Sneakers For Men</td>\n",
       "      <td>₹1,000</td>\n",
       "    </tr>\n",
       "  </tbody>\n",
       "</table>\n",
       "<p>100 rows × 3 columns</p>\n",
       "</div>"
      ],
      "text/plain": [
       "           Brand                                Product Description   Price\n",
       "0         BRUTON                     Modern Trendy Sneakers For Men    ₹297\n",
       "1         BRUTON           Exclusive Sneaker Shoes Sneakers For Men    ₹297\n",
       "2           PUMA                         Cliff IDP Sneakers For Men  ₹1,047\n",
       "3           PUMA                      Puma knit V3 Sneakers For Men  ₹1,047\n",
       "4           aadi  Lightweight,Comfort,Summer,Trendy,Walking,Outd...    ₹299\n",
       "..           ...                                                ...     ...\n",
       "95         asian  Flat Sole Sneakers Shoes for all Day wear with...    ₹777\n",
       "96       TERFILL       Multicolor Stylish Casual Sneakers For Women    ₹639\n",
       "97  K' Footlance  Modern Trendy Sneakers boot Sneakers For Men S...    ₹559\n",
       "98         asian  Mens High Top Casual Chunky Sneakers Sneakers ...  ₹1,033\n",
       "99          PUMA                     Puma Tychonic Sneakers For Men  ₹1,000\n",
       "\n",
       "[100 rows x 3 columns]"
      ]
     },
     "execution_count": 22,
     "metadata": {},
     "output_type": "execute_result"
    }
   ],
   "source": [
    "# Creating the DataFrame:\n",
    "\n",
    "import pandas as pd\n",
    "df = pd.DataFrame({'Brand':brand, 'Product Description':description, 'Price':price})\n",
    "df[:100]"
   ]
  },
  {
   "cell_type": "code",
   "execution_count": null,
   "id": "4477645a",
   "metadata": {},
   "outputs": [],
   "source": []
  },
  {
   "cell_type": "markdown",
   "id": "31df1893",
   "metadata": {},
   "source": [
    "# Scraping for site Amazon:\n",
    "    https://www.amazon.in/"
   ]
  },
  {
   "cell_type": "code",
   "execution_count": 39,
   "id": "1be6d2b2",
   "metadata": {},
   "outputs": [],
   "source": [
    "driver4 = webdriver.Chrome()"
   ]
  },
  {
   "cell_type": "code",
   "execution_count": 40,
   "id": "4bed1ef2",
   "metadata": {},
   "outputs": [],
   "source": [
    "driver4.get('https://www.amazon.in/')"
   ]
  },
  {
   "cell_type": "code",
   "execution_count": 41,
   "id": "70d6a429",
   "metadata": {},
   "outputs": [],
   "source": [
    "# Entering in the search box:\n",
    "\n",
    "laptop = driver4.find_element(By.XPATH, '//div[@class=\"nav-fill\"]/div/input')\n",
    "laptop.send_keys('Laptop')"
   ]
  },
  {
   "cell_type": "code",
   "execution_count": 42,
   "id": "46a1a06f",
   "metadata": {},
   "outputs": [],
   "source": [
    "# Clicking on the search button:\n",
    "\n",
    "search = driver4.find_element(By.XPATH, '//div[@class=\"nav-right\"]/div/span/input')\n",
    "search.click()"
   ]
  },
  {
   "cell_type": "code",
   "execution_count": 43,
   "id": "5fec8a17",
   "metadata": {},
   "outputs": [],
   "source": [
    "# Setting the filter to Intel i7:\n",
    "\n",
    "filtering = driver4.find_element(By.XPATH, '/html/body/div[1]/div[1]/div[1]/div[2]/div/div[3]/span/div[1]/div/div/div[6]/ul[2]/span/span[11]/li/span/a/span')\n",
    "filtering.click()"
   ]
  },
  {
   "cell_type": "code",
   "execution_count": 59,
   "id": "23c1df38",
   "metadata": {},
   "outputs": [
    {
     "name": "stdout",
     "output_type": "stream",
     "text": [
      "['Lenovo IdeaPad Pro 5 Intel Evo Core Ultra 9 185H Built-in AI 14\" (35.56cm) 2.8K-OLED 400Nits 120Hz Laptop (32GB/1TB SSD/Win11/Office 21/FHD+IR Camera/Alexa/3 Mon Game Pass/Grey/1.4Kg), 83D2001GIN', 'ASUS Vivobook 16 (2023)Thin & Light Laptop,Intel Core i9-13900H 13th Gen, 16\" (40.64 cm) FHD+(16GB RAM/512GB SSD/Intel Iris Xe/Win 11/Office 2021/Backlit KB/Fingerprint/Black/1.88 kg) X1605VA-MB947WS', 'ASUS ROG Strix G16 (2024), 16 \"(40.64cm) QHD+ 240Hz, Intel Core i9 14900HX, Gaming Laptop (16GB DDR5/1TB SSD/NVIDIA GeForce RTX 4070 /Windows 11/Office 2021/Eclipse Gray/2.50 Kg), G614JIR-N4062WS', 'Lenovo IdeaPad Pro 5 Intel Core Ultra 9 185H Built-in AI 16\" (40.6cm) 2K-OLED 400Nits 120Hz Touchscreen Laptop (32GB/1TB SSD/NVIDIA RTX 4050 6GB/Win11/Office/3mon. Game Pass/Grey/1.9Kg), 83D4002PIN', 'Dell G15 5530 Gaming Laptop, Intel i9-13900HX,16GB DDR5,1TB SSD,NVIDIA RTX 4060-8GB GDDR6, 15.6\" (39.62cm) FHD 165Hz,NVIDIA G-SYNC+DDS Display,Win 11, Backlit Keyboard 4-Zone,Dark Shadow Gray, 2.65 Kg', 'HP OMEN Gaming Laptop, 13th Gen Intel Core i9-13900HX, 8GB RTX 4060 GPU, 16.1-inch (40.9 cm), FHD, IPS, 165Hz, 300 nits, 16GB DDR5, 1TB SSD, RGB Backlit KB, B&O (MSO, Black, 2.38 kg), wf0148TX', 'Acer Predator Helios Neo 16 Gaming Laptop 14th Gen Intel Core i9 Processor (Windows 11 Home/16 GB/1 TB SSD/NVIDIA GeForce RTX 4070) PHN16-72 with 40.64 cm (16\") WQXGA Display', 'ASUS Vivobook Pro 16, Intel Core i9 11th Gen, 16\" (40.64 cm) FHD+ 120Hz, Thin & Light Laptop (16GB/512GB SSD/4GB RTX 3050/Win 11/Office 2021/Alexa/Backlit KB/FP Sensor/Blue/1.9 kg), K6602HC-N1901WS', 'Lenovo Legion Pro 7 Intel Core i9-14900HX 16\" (40.6cm) WQXGA IPS 500Nits 240Hz Gaming Laptop (32GB/1TB SSD/Win 11/Office 21/NVIDIA RTX 4090 16GB/100% DCI-P3/3mon Xbox Game Pass/Black/2.6Kg),83DE001JIN', 'Dell Alienware m18 R1 Gaming Laptop, Intel Core i9-13980HX Processor/64GB/1TB SSD/18.0\" (45.72cm) QHD+ FHD 165Hz/NVIDIA RTX 4090 16GB GDDR6/Win 11 + MSO\\'21/15 Month McAfee/Dark Metallic Moon/2.72kg']\n",
      "10\n"
     ]
    }
   ],
   "source": [
    "# Scraping the Laptop details : Title, Ratings & Price\n",
    "\n",
    "lap_title = []\n",
    "\n",
    "title_tag = driver4.find_elements(By.XPATH, '//span[@class=\"a-size-medium a-color-base a-text-normal\"]')\n",
    "for i in title_tag[:10]:\n",
    "    title = i.text\n",
    "    lap_title.append(title)\n",
    "    \n",
    "print(lap_title)\n",
    "print(len(lap_title))"
   ]
  },
  {
   "cell_type": "code",
   "execution_count": 58,
   "id": "93a047a6",
   "metadata": {},
   "outputs": [
    {
     "name": "stdout",
     "output_type": "stream",
     "text": [
      "['2,250', '154', 'Limited time deal', '3', '35', 'Limited time deal', '6', 'Limited time deal', '131', '3']\n",
      "10\n"
     ]
    }
   ],
   "source": [
    "# Now for Ratings:\n",
    "\n",
    "Rating = []\n",
    "\n",
    "rating_tag = driver4.find_elements(By.XPATH, '//a[@class=\"a-link-normal s-underline-text s-underline-link-text s-link-style\"]/span')\n",
    "for i in rating_tag[:10]:\n",
    "    rating = i.text\n",
    "    Rating.append(rating)\n",
    "    \n",
    "print(Rating)\n",
    "print(len(Rating))"
   ]
  },
  {
   "cell_type": "code",
   "execution_count": 57,
   "id": "5667466e",
   "metadata": {},
   "outputs": [
    {
     "name": "stdout",
     "output_type": "stream",
     "text": [
      "['1,07,990', '84,990', '1,99,490', '1,48,990', '1,48,620', '1,57,990', '1,74,990', '89,990', '3,72,490', '4,09,990']\n",
      "10\n"
     ]
    }
   ],
   "source": [
    "# Now for Price:\n",
    "\n",
    "Price = []\n",
    "\n",
    "price_tag = driver4.find_elements(By.XPATH, '//span[@class=\"a-price-whole\"]')\n",
    "for i in price_tag[:10]:\n",
    "    price = i.text\n",
    "    Price.append(price)\n",
    "    \n",
    "print(Price)\n",
    "print(len(Price))"
   ]
  },
  {
   "cell_type": "code",
   "execution_count": 60,
   "id": "09f0ec6d",
   "metadata": {},
   "outputs": [
    {
     "data": {
      "text/html": [
       "<div>\n",
       "<style scoped>\n",
       "    .dataframe tbody tr th:only-of-type {\n",
       "        vertical-align: middle;\n",
       "    }\n",
       "\n",
       "    .dataframe tbody tr th {\n",
       "        vertical-align: top;\n",
       "    }\n",
       "\n",
       "    .dataframe thead th {\n",
       "        text-align: right;\n",
       "    }\n",
       "</style>\n",
       "<table border=\"1\" class=\"dataframe\">\n",
       "  <thead>\n",
       "    <tr style=\"text-align: right;\">\n",
       "      <th></th>\n",
       "      <th>Title</th>\n",
       "      <th>Ratings</th>\n",
       "      <th>Price</th>\n",
       "    </tr>\n",
       "  </thead>\n",
       "  <tbody>\n",
       "    <tr>\n",
       "      <th>0</th>\n",
       "      <td>Dell Alienware m18 R1 Gaming Laptop, Intel Cor...</td>\n",
       "      <td>2,250</td>\n",
       "      <td>1,07,990</td>\n",
       "    </tr>\n",
       "    <tr>\n",
       "      <th>1</th>\n",
       "      <td>Dell Alienware m18 R1 Gaming Laptop, Intel Cor...</td>\n",
       "      <td>154</td>\n",
       "      <td>84,990</td>\n",
       "    </tr>\n",
       "    <tr>\n",
       "      <th>2</th>\n",
       "      <td>Dell Alienware m18 R1 Gaming Laptop, Intel Cor...</td>\n",
       "      <td>Limited time deal</td>\n",
       "      <td>1,99,490</td>\n",
       "    </tr>\n",
       "    <tr>\n",
       "      <th>3</th>\n",
       "      <td>Dell Alienware m18 R1 Gaming Laptop, Intel Cor...</td>\n",
       "      <td>3</td>\n",
       "      <td>1,48,990</td>\n",
       "    </tr>\n",
       "    <tr>\n",
       "      <th>4</th>\n",
       "      <td>Dell Alienware m18 R1 Gaming Laptop, Intel Cor...</td>\n",
       "      <td>35</td>\n",
       "      <td>1,48,620</td>\n",
       "    </tr>\n",
       "    <tr>\n",
       "      <th>5</th>\n",
       "      <td>Dell Alienware m18 R1 Gaming Laptop, Intel Cor...</td>\n",
       "      <td>Limited time deal</td>\n",
       "      <td>1,57,990</td>\n",
       "    </tr>\n",
       "    <tr>\n",
       "      <th>6</th>\n",
       "      <td>Dell Alienware m18 R1 Gaming Laptop, Intel Cor...</td>\n",
       "      <td>6</td>\n",
       "      <td>1,74,990</td>\n",
       "    </tr>\n",
       "    <tr>\n",
       "      <th>7</th>\n",
       "      <td>Dell Alienware m18 R1 Gaming Laptop, Intel Cor...</td>\n",
       "      <td>Limited time deal</td>\n",
       "      <td>89,990</td>\n",
       "    </tr>\n",
       "    <tr>\n",
       "      <th>8</th>\n",
       "      <td>Dell Alienware m18 R1 Gaming Laptop, Intel Cor...</td>\n",
       "      <td>131</td>\n",
       "      <td>3,72,490</td>\n",
       "    </tr>\n",
       "    <tr>\n",
       "      <th>9</th>\n",
       "      <td>Dell Alienware m18 R1 Gaming Laptop, Intel Cor...</td>\n",
       "      <td>3</td>\n",
       "      <td>4,09,990</td>\n",
       "    </tr>\n",
       "  </tbody>\n",
       "</table>\n",
       "</div>"
      ],
      "text/plain": [
       "                                               Title            Ratings  \\\n",
       "0  Dell Alienware m18 R1 Gaming Laptop, Intel Cor...              2,250   \n",
       "1  Dell Alienware m18 R1 Gaming Laptop, Intel Cor...                154   \n",
       "2  Dell Alienware m18 R1 Gaming Laptop, Intel Cor...  Limited time deal   \n",
       "3  Dell Alienware m18 R1 Gaming Laptop, Intel Cor...                  3   \n",
       "4  Dell Alienware m18 R1 Gaming Laptop, Intel Cor...                 35   \n",
       "5  Dell Alienware m18 R1 Gaming Laptop, Intel Cor...  Limited time deal   \n",
       "6  Dell Alienware m18 R1 Gaming Laptop, Intel Cor...                  6   \n",
       "7  Dell Alienware m18 R1 Gaming Laptop, Intel Cor...  Limited time deal   \n",
       "8  Dell Alienware m18 R1 Gaming Laptop, Intel Cor...                131   \n",
       "9  Dell Alienware m18 R1 Gaming Laptop, Intel Cor...                  3   \n",
       "\n",
       "      Price  \n",
       "0  1,07,990  \n",
       "1    84,990  \n",
       "2  1,99,490  \n",
       "3  1,48,990  \n",
       "4  1,48,620  \n",
       "5  1,57,990  \n",
       "6  1,74,990  \n",
       "7    89,990  \n",
       "8  3,72,490  \n",
       "9  4,09,990  "
      ]
     },
     "execution_count": 60,
     "metadata": {},
     "output_type": "execute_result"
    }
   ],
   "source": [
    "df = pd.DataFrame({'Title':title, 'Ratings':Rating, 'Price':Price})\n",
    "df[:10]"
   ]
  },
  {
   "cell_type": "code",
   "execution_count": null,
   "id": "5bd59324",
   "metadata": {},
   "outputs": [],
   "source": []
  },
  {
   "cell_type": "code",
   "execution_count": 64,
   "id": "ac56e8aa",
   "metadata": {},
   "outputs": [],
   "source": [
    "# Scraping for site Az quotes:\n",
    "\n",
    "driver5 = webdriver.Chrome()"
   ]
  },
  {
   "cell_type": "code",
   "execution_count": 66,
   "id": "c8ed51f1",
   "metadata": {},
   "outputs": [],
   "source": [
    "driver5.get('https://www.azquotes.com/')"
   ]
  },
  {
   "cell_type": "code",
   "execution_count": 68,
   "id": "a41a0dd9",
   "metadata": {},
   "outputs": [],
   "source": [
    "# Clicking on the Top Quotes:\n",
    "\n",
    "top_quotes = driver5.find_element(By.XPATH, '//a[@href=\"/top_quotes.html\"]')\n",
    "top_quotes.click()"
   ]
  },
  {
   "cell_type": "code",
   "execution_count": 69,
   "id": "87fa6620",
   "metadata": {},
   "outputs": [
    {
     "name": "stdout",
     "output_type": "stream",
     "text": [
      "['The essence of strategy is choosing what not to do.', 'One cannot and must not try to erase the past merely because it does not fit the present.', 'Patriotism means to stand by the country. It does not mean to stand by the president.', 'Death is something inevitable. When a man has done what he considers to be his duty to his people and his country, he can rest in peace. I believe I have made that effort and that is, therefore, why I will sleep for the eternity.', 'You have to love a nation that celebrates its independence every July 4, not with a parade of guns, tanks, and soldiers who file by the White House in a show of strength and muscle, but with family picnics where kids throw Frisbees, the potato salad gets iffy, and the flies die from happiness. You may think you have overeaten, but it is patriotism.', 'Be more concerned with your character than your reputation, because your character is what you really are, while your reputation is merely what others think you are.', 'Weak people revenge. Strong people forgive. Intelligent People Ignore.', \"A mind is like a parachute. It doesn't work if it is not open.\", 'Never be afraid to raise your voice for honesty and truth and compassion against injustice and lying and greed. If people all over the world...would do this, it would change the earth.', 'There are three kinds of men. The one that learns by reading. The few who learn by observation. The rest of them have to pee on the electric fence for themselves.', \"A strong nation, like a strong person, can afford to be gentle, firm, thoughtful, and restrained. It can afford to extend a helping hand to others. It's a weak nation, like a weak person, that must behave with bluster and boasting and rashness and other signs of insecurity.\", 'The difference between stupidity and genius is that genius has its limits.', 'We the people are the rightful masters of both Congress and the courts, not to overthrow the Constitution but to overthrow the men who pervert the Constitution.', 'With or without religion, you would have good people doing good things and evil people doing evil things. But for good people to do evil things, that takes religion.', 'Human kindness has never weakened the stamina or softened the fiber of a free people. A nation does not have to be cruel to be tough.', 'A person who never made a mistake never tried anything new.', 'My mission in life is not merely to survive, but to thrive; and to do so with some passion, some compassion, some humor, and some style', 'Life is short, Break the Rules. Forgive quickly, Kiss slowly. Love truly. Laugh uncontrollably And never regret ANYTHING That makes you smile.', 'This country will not be a good place for any of us to live in unless we make it a good place for all of us to live in.', 'In a world filled with hate, we must still dare to hope. In a world filled with anger, we must still dare to comfort. In a world filled with despair, we must still dare to dream. And in a world filled with distrust, we must still dare to believe.', 'Darkness cannot drive out darkness; only light can do that. Hate cannot drive out hate; only love can do that.', 'To be a Christian means to forgive the inexcusable because God has forgiven the inexcusable in you.', 'A man who is good enough to shed his blood for the country is good enough to be given a square deal afterwards.', 'Kindness is the language which the deaf can hear and the blind can see.', 'Most folks are as happy as they make up their minds to be.', 'A happy marriage is the union of two good forgivers.', 'I believe in Christianity as I believe that the sun has risen: not only because I see it, but because by it I see everything else.', 'Politics is the art of looking for trouble, finding it everywhere, diagnosing it incorrectly and applying the wrong remedies.', \"I believe in everything until it's disproved. So I believe in fairies, the myths, dragons. It all exists, even if it's in your mind. Who's to say that dreams and nightmares aren't as real as the here and now?\", 'At the end of your life, you will never regret not having passed one more test, not winning one more verdict or not closing one more deal. You will regret time not spent with a husband, a friend, a child, or a parent.', 'I never think of the future - it comes soon enough.', \"Our greatest fear should not be of failure but of succeeding at things in life that don't really matter.\", 'Failure is simply the opportunity to begin again, this time more intelligently.', 'Music expresses that which cannot be put into words.', 'Good actions are a guard against the blows of adversity.', 'Positive thinking will let you do everything better than negative thinking will.', \"You have enemies? Good. That means you've stood up for something, sometime in your life.\", \"You don't have to be great to start, but you have to start to be great\", 'Let every nation know, whether it wishes us well or ill, that we shall pay any price, bear any burden, meet any hardship, support any friend, oppose any foe to assure the survival and the success of liberty.', \"If you want total security, go to prison. There you're fed, clothed, given medical care and so on. The only thing lacking... is freedom.\", 'Socialism is a philosophy of failure, the creed of ignorance, and the gospel of envy, its inherent virtue is the equal sharing of misery.', 'It is the supreme art of the teacher to awaken joy in creative expression and knowledge.', \"Once you replace negative thoughts with positive ones, you'll start having positive results.\", \"You build on failure. You use it as a stepping stone. Close the door on the past. You don't try to forget the mistakes, but you don't dwell on it. You don't let it have any of your energy, or any of your time, or any of your space.\", 'All my life through, the new sights of Nature made me rejoice like a child.', \"I've learned that people will forget what you said, people will forget what you did, but people will never forget how you made them feel.\", 'Marriage is not a ritual or an end. It is a long, intricate, intimate dance together and nothing matters more than your own sense of balance and your choice of partner.', 'When obstacles arise, you change your direction to reach your goal; you do not change your decision to get there.', 'Time you enjoy wasting, was not wasted.', 'The next time some academics tell you how important diversity is, ask how many Republicans there are in their sociology department.', 'Faith is not the belief that God will do what you want. It is the belief that God will do what is right.', \"If you can't fly then run, if you can't run then walk, if you can't walk then crawl, but whatever you do you have to keep moving forward.\", 'It is hard to imagine a more stupid or more dangerous way of making decisions than by putting those decisions in the hands of people who pay no price for being wrong.', 'I say that the most liberating thing about beauty is realizing that you are the beholder.', 'The ultimate measure of a man is not where he stands in moments of comfort and convenience, but where he stands at times of challenge and controversy.', 'The soldier, above all other people, prays for peace, for he must suffer and bear the deepest wounds and scars of war.', 'A true leader has the confidence to stand alone, the courage to make tough decisions, and the compassion to listen to the needs of others. He does not set out to be a leader, but becomes one by the equality of his actions and the integrity of his intent.', 'I am a Soldier, I fight where I am told, and I win where I fight.', \"Trying to do the Lord's work in your own strength is the most confusing, exhausting, and tedious of all work. But when you are filled with the Holy Spirit, then the ministry of Jesus just flows out of you.\", \"Sports for me is when a guy walks off the court, and you really can't tell whether he won or lost, when he carries himself with pride either way.\", 'Expect the best. Prepare for the worst. Capitalize on what comes.', 'I became insane, with long intervals of horrible sanity.', 'Failure is a detour, not a dead-end street.', 'I am not a product of my circumstances. I am a product of my decisions.', 'You can cut all the flowers but you cannot keep spring from coming.', \"Life doesn't run away from nobody. Life runs at people.\", 'In order to succeed, your desire for success should be greater than your fear of failure.', \"It's difficult to think anything but pleasant thoughts while eating a homegrown tomato.\", 'Too many of us are not living our dreams because we are living our fears.', 'If the only prayer you ever say in your entire life is thank you, it will be enough.', \"It's just a job. Grass grows, birds fly, waves pound the sand. I beat people up.\", 'A man must be big enough to admit his mistakes, smart enough to profit from them, and strong enough to correct them.', 'Our greatest weakness lies in giving up. The most certain way to succeed is always to try just one more time.', \"It has been said, 'time heals all wounds.' I do not agree. The wounds remain. In time, the mind, protecting its sanity, covers them with scar tissue and the pain lessens. But it is never gone.\", 'This is one small step for a man, one giant leap for mankind.', \"I have held many things in my hands, and I have lost them all; but whatever I have placed in God's hands, that I still possess.\", \"Welfare's purpose should be to eliminate, as far as possible, the need for its own existence.\", 'Each time, before you intercede, be quiet first, and worship God in His glory. Think of what He can do, and how He delights to hear the prayers of His redeemed people. Think of your place and privilege in Christ, and expect great things!', \"Failure is not the opposite of success; it's part of success.\", 'No one has ever become poor by giving.', 'It is not my ability, but my response to God’s ability, that counts.', 'No one is born hating another person because of the color of his skin, or his background, or his religion. People must learn to hate, and if they can learn to hate, they can be taught to love, for love comes more naturally to the human heart than its opposite.', 'No matter what people tell you, words and ideas can change the world.', 'A man should never neglect his family for business.', 'Those who dare to fail miserably can achieve greatly.', 'The two most important days in your life are the day you are born and the day you find out why.', 'We must be global Christians with a global vision because our God is a global God.', 'With everything that has happened to you, you can either feel sorry for yourself or treat what has happened as a gift. Everything is either an opportunity to grow or an obstacle to keep you from growing. You get to choose.', 'Don’t let the noise of others’ opinions drown out your own inner voice.', 'History, despite its wrenching pain, cannot be unlived, but if faced with courage, need not be lived again.', \"How old would you be if you didn't know how old you are?\", 'Leadership is a privilege to better the lives of others. It is not an opportunity to satisfy personal greed.', 'If you have good thoughts they will shine out of your face like sunbeams and you will always look lovely.', 'Never cut a tree down in the wintertime. Never make a negative decision in the low time. Never make your most important decisions when you are in your worst moods. Wait. Be patient. The storm will pass. The spring will come.', 'An optimist stays up until midnight to see the new year in. A pessimist stays up to make sure the old year leaves.', 'When the going gets weird, the weird turn pro.', \"When a train goes through a tunnel and it gets dark, you don't throw away the ticket and jump off. You sit still and trust the engineer.\", 'If you think you are too small to make a difference, try sleeping with a mosquito.', \"God doesn't require us to succeed, he only requires that you try.\", 'Change your thoughts and you change your world.']\n",
      "100\n"
     ]
    }
   ],
   "source": [
    "# Scraping the Quote, Author & Types of Quote:\n",
    "\n",
    "quote = []\n",
    "\n",
    "quote_tag = driver5.find_elements(By.XPATH, '//a[@class=\"title\"]')\n",
    "for i in quote_tag:\n",
    "    quotes = i.text\n",
    "    quote.append(quotes)\n",
    "    \n",
    "print(quote)\n",
    "print(len(quote))"
   ]
  },
  {
   "cell_type": "code",
   "execution_count": 70,
   "id": "f034dc22",
   "metadata": {},
   "outputs": [
    {
     "name": "stdout",
     "output_type": "stream",
     "text": [
      "['Michael Porter', 'Golda Meir', 'Theodore Roosevelt', 'Nelson Mandela', 'Erma Bombeck', 'John Wooden', 'Albert Einstein', 'Frank Zappa', 'William Faulkner', 'Will Rogers', 'Jimmy Carter', 'Albert Einstein', 'Abraham Lincoln', 'Steven Weinberg', 'Franklin D. Roosevelt', 'Albert Einstein', 'Maya Angelou', 'Mark Twain', 'Theodore Roosevelt', 'Michael Jackson', 'Martin Luther King, Jr.', 'C. S. Lewis', 'Theodore Roosevelt', 'Mark Twain', 'Abraham Lincoln', 'Ruth Graham', 'C. S. Lewis', 'Groucho Marx', 'John Lennon', 'Barbara Bush', 'Albert Einstein', 'Francis Chan', 'Henry Ford', 'Victor Hugo', 'Abu Bakr', 'Zig Ziglar', 'Winston Churchill', 'Zig Ziglar', 'John F. Kennedy', 'Dwight D. Eisenhower', 'Winston Churchill', 'Albert Einstein', 'Willie Nelson', 'Johnny Cash', 'Marie Curie', 'Maya Angelou', 'Amy Bloom', 'Zig Ziglar', 'John Lennon', 'Thomas Sowell', 'Max Lucado', 'Martin Luther King, Jr.', 'Thomas Sowell', 'Salma Hayek', 'Martin Luther King, Jr.', 'Douglas MacArthur', 'Douglas MacArthur', 'George S. Patton', 'Corrie Ten Boom', 'Jim Courier', 'Zig Ziglar', 'Edgar Allan Poe', 'Zig Ziglar', 'Stephen Covey', 'Pablo Neruda', 'Joe Frazier', 'Bill Cosby', 'Lewis Grizzard', 'Les Brown', 'Meister Eckhart', 'Muhammad Ali', 'John C. Maxwell', 'Thomas A. Edison', 'Rose Kennedy', 'Neil Armstrong', 'Martin Luther', 'Ronald Reagan', 'Andrew Murray', 'Arianna Huffington', 'Anne Frank', 'Corrie Ten Boom', 'Nelson Mandela', 'Robin Williams', 'Walt Disney', 'John F. Kennedy', 'Mark Twain', 'John Stott', 'Wayne Dyer', 'Steve Jobs', 'Maya Angelou', 'Satchel Paige', 'Mwai Kibaki', 'Roald Dahl', 'Robert H. Schuller', 'Bill Vaughan', 'Hunter S. Thompson', 'Corrie Ten Boom', 'Dalai Lama', 'Mother Teresa', 'Norman Vincent Peale']\n",
      "100\n"
     ]
    }
   ],
   "source": [
    "# For Author:\n",
    "\n",
    "authors = []\n",
    "\n",
    "author_tag = driver5.find_elements(By.XPATH, '//div[@class=\"author\"]/a')\n",
    "for i in author_tag:\n",
    "    author = i.text\n",
    "    authors.append(author)\n",
    "    \n",
    "print(authors)\n",
    "print(len(authors))"
   ]
  },
  {
   "cell_type": "code",
   "execution_count": 71,
   "id": "e1d29f89",
   "metadata": {},
   "outputs": [
    {
     "name": "stdout",
     "output_type": "stream",
     "text": [
      "['Essence, Deep Thought, Transcendentalism', 'Inspiration, Past, Trying', 'Country, Peace, War', 'Inspirational, Motivational, Death', '4th Of July, Food, Patriotic', 'Inspirational, Success, Basketball', 'Strong, Revenge, Intelligent', 'Inspirational, Teacher, Religious', 'Truth, Honesty, Lying', 'Funny, Reading, Learning', 'Strong, Thoughtful, Compassion', 'Love, Funny, Life', 'Freedom, Men, Democracies Have', 'God, Religious, Atheist', 'Respect, Kindness, Character', 'Inspirational, Motivational, Change', 'Inspirational, Life, Inspiring', 'Love, Inspirational, Life', 'Inspiring, Country, 4th Of July', 'Inspirational, Dream, Hate', 'Love, Inspirational, Life', 'Forgiveness, God, Christian', 'Country, Men, Squares', 'Inspirational, Relationship, Positive', 'Inspirational, Motivational, Positive', 'Love, Friendship, Relationship', 'Faith, God, Christian', 'Art, Freedom, Political Will', 'Inspirational, Life, Faith', 'Inspirational, Life, Meaningful', 'Happiness, Time, Clever', 'Inspirational, Inspiring, Success', 'Love, Inspirational, Life', 'Music, Sound And Music, Musical Life', 'Adversity, Blow, Action', 'Positive, Thinking Of You, Attitude', 'Inspirational, Funny, Life', 'Inspirational, Life, Motivational', 'Inspirational, Memorial Day, Freedom', 'Freedom, Patriotic, Vaccines', 'Philosophy, Ignorance, Democratic Socialism', 'Inspirational, Dance, Education', 'Life, Change, Positive', 'Life, Bullying, Mistake', 'Life, Nature, Children', 'Inspirational, Life, Motivational', 'Marriage, Love You, Long', 'Inspirational, Motivational, Success', 'Love, Inspirational, Life', 'Diversity, Important, Liberty', 'Inspirational, God, Faith', 'Inspirational, Motivational, Inspiring', 'Business, Stupid, Government', 'Beauty, Love Yourself, Your Beautiful', 'Inspirational, Life, Motivational', 'Peace, Military, War', 'Inspirational, Leadership, Confidence', 'Motivational, Military, War', 'Christian, Jesus, Confusing', 'Inspirational, Success, Sports', 'Inspirational, Motivational, Success', 'Inspirational, Life, Clever', 'Inspirational, Death, Failure', 'Inspirational, Life, Motivational', 'Inspiring, Hope, Spring', 'Motivational, Running, People', 'Inspirational, Motivational, Positive', 'Summer, Food, Garden', 'Inspirational, Life, Motivational', 'Inspirational, Life, Thank You', 'Funny, Sports, Jobs', 'Being Strong, Wisdom, Stay Strong', 'Inspirational, Motivational, Positive', 'Time, Pain, Get Well', 'Motivational, Positive, Moon', 'Life, God, Christian', 'President, Needs, Purpose', 'God, Faith, Christian', 'Women, Failure, Successful', 'Inspirational, Morning, Kindness', 'Hiding Place, Ability, Baby Boom', 'Love, Inspirational, Life', 'Inspirational, Change, Philosophy', 'Inspirational, Family, Inspiring', 'Inspirational, Success, Courage', 'Inspirational, Life, Motivational', 'Christian, Vision, Missionary', 'Inspirational, Positive, Regret', 'Love, Inspirational, Life', 'Inspirational, Life, Encouragement', 'Happy Birthday, Baseball, Fun', 'Leadership, Power, Opportunity', 'Inspirational, Life, Positive', 'Inspirational, Encouraging, Patience', 'New Year, Fun, New Beginnings', 'Music, Sports, Hunting', 'Trust, Encouraging, Uplifting', 'Inspirational, Funny, Change', 'Success, God, Mother', 'Inspirational, Motivational, Change']\n",
      "100\n"
     ]
    }
   ],
   "source": [
    "# For Type of Quote:\n",
    "\n",
    "type = []\n",
    "\n",
    "type_tag = driver5.find_elements(By.XPATH, '//div[@class=\"tags\"]')\n",
    "for i in type_tag:\n",
    "    types = i.text\n",
    "    type.append(types)\n",
    "    \n",
    "print(type)\n",
    "print(len(type))"
   ]
  },
  {
   "cell_type": "code",
   "execution_count": 81,
   "id": "4b8879d5",
   "metadata": {},
   "outputs": [],
   "source": [
    "# Scraping the first 1000 products data:\n",
    "\n",
    "start = 0\n",
    "end = 9\n",
    "\n",
    "for page in range(start, end):\n",
    "    \n",
    "    quote_tag = driver5.find_elements(By.XPATH, '//a[@class=\"title\"]')\n",
    "    for i in quote_tag:\n",
    "        quote.append(i.text)\n",
    "        \n",
    "    author_tag = driver5.find_elements(By.XPATH, '//div[@class=\"author\"]/a')\n",
    "    for i in author_tag:\n",
    "        authors.append(i.text)\n",
    "        \n",
    "    type_tag = driver5.find_elements(By.XPATH, '//div[@class=\"tags\"]')\n",
    "    for i in type_tag:\n",
    "        type.append(i.text)\n",
    "        \n",
    "    next_button = driver5.find_element(By.XPATH, '//li[@class=\"next\"]/a[1]')\n",
    "    next_button.click()\n",
    "    time.sleep(3)"
   ]
  },
  {
   "cell_type": "code",
   "execution_count": 83,
   "id": "6a29a9b0",
   "metadata": {},
   "outputs": [
    {
     "data": {
      "text/html": [
       "<div>\n",
       "<style scoped>\n",
       "    .dataframe tbody tr th:only-of-type {\n",
       "        vertical-align: middle;\n",
       "    }\n",
       "\n",
       "    .dataframe tbody tr th {\n",
       "        vertical-align: top;\n",
       "    }\n",
       "\n",
       "    .dataframe thead th {\n",
       "        text-align: right;\n",
       "    }\n",
       "</style>\n",
       "<table border=\"1\" class=\"dataframe\">\n",
       "  <thead>\n",
       "    <tr style=\"text-align: right;\">\n",
       "      <th></th>\n",
       "      <th>Quotes</th>\n",
       "      <th>Authors</th>\n",
       "      <th>Type of Quote</th>\n",
       "    </tr>\n",
       "  </thead>\n",
       "  <tbody>\n",
       "    <tr>\n",
       "      <th>0</th>\n",
       "      <td>The essence of strategy is choosing what not t...</td>\n",
       "      <td>Michael Porter</td>\n",
       "      <td>Essence, Deep Thought, Transcendentalism</td>\n",
       "    </tr>\n",
       "    <tr>\n",
       "      <th>1</th>\n",
       "      <td>One cannot and must not try to erase the past ...</td>\n",
       "      <td>Golda Meir</td>\n",
       "      <td>Inspiration, Past, Trying</td>\n",
       "    </tr>\n",
       "    <tr>\n",
       "      <th>2</th>\n",
       "      <td>Patriotism means to stand by the country. It d...</td>\n",
       "      <td>Theodore Roosevelt</td>\n",
       "      <td>Country, Peace, War</td>\n",
       "    </tr>\n",
       "    <tr>\n",
       "      <th>3</th>\n",
       "      <td>Death is something inevitable. When a man has ...</td>\n",
       "      <td>Nelson Mandela</td>\n",
       "      <td>Inspirational, Motivational, Death</td>\n",
       "    </tr>\n",
       "    <tr>\n",
       "      <th>4</th>\n",
       "      <td>You have to love a nation that celebrates its ...</td>\n",
       "      <td>Erma Bombeck</td>\n",
       "      <td>4th Of July, Food, Patriotic</td>\n",
       "    </tr>\n",
       "    <tr>\n",
       "      <th>...</th>\n",
       "      <td>...</td>\n",
       "      <td>...</td>\n",
       "      <td>...</td>\n",
       "    </tr>\n",
       "    <tr>\n",
       "      <th>995</th>\n",
       "      <td>Let us not seek the Republican answer or the D...</td>\n",
       "      <td>John F. Kennedy</td>\n",
       "      <td>4th Of July, Responsibility, Past</td>\n",
       "    </tr>\n",
       "    <tr>\n",
       "      <th>996</th>\n",
       "      <td>Life isn't a matter of milestones, but of mome...</td>\n",
       "      <td>Rose Kennedy</td>\n",
       "      <td>Inspirational, Life, Change</td>\n",
       "    </tr>\n",
       "    <tr>\n",
       "      <th>997</th>\n",
       "      <td>The time is always right to do what is right.</td>\n",
       "      <td>Martin Luther King, Jr.</td>\n",
       "      <td>Inspirational, Positive, Inspiring</td>\n",
       "    </tr>\n",
       "    <tr>\n",
       "      <th>998</th>\n",
       "      <td>Whatever you want to do, do it now. There are ...</td>\n",
       "      <td>Michael Landon</td>\n",
       "      <td>Motivational, Positive, Death</td>\n",
       "    </tr>\n",
       "    <tr>\n",
       "      <th>999</th>\n",
       "      <td>be yourself- not your idea of what you think s...</td>\n",
       "      <td>Henry David Thoreau</td>\n",
       "      <td>Inspirational, Being Yourself, Real</td>\n",
       "    </tr>\n",
       "  </tbody>\n",
       "</table>\n",
       "<p>1000 rows × 3 columns</p>\n",
       "</div>"
      ],
      "text/plain": [
       "                                                Quotes  \\\n",
       "0    The essence of strategy is choosing what not t...   \n",
       "1    One cannot and must not try to erase the past ...   \n",
       "2    Patriotism means to stand by the country. It d...   \n",
       "3    Death is something inevitable. When a man has ...   \n",
       "4    You have to love a nation that celebrates its ...   \n",
       "..                                                 ...   \n",
       "995  Let us not seek the Republican answer or the D...   \n",
       "996  Life isn't a matter of milestones, but of mome...   \n",
       "997      The time is always right to do what is right.   \n",
       "998  Whatever you want to do, do it now. There are ...   \n",
       "999  be yourself- not your idea of what you think s...   \n",
       "\n",
       "                     Authors                             Type of Quote  \n",
       "0             Michael Porter  Essence, Deep Thought, Transcendentalism  \n",
       "1                 Golda Meir                 Inspiration, Past, Trying  \n",
       "2         Theodore Roosevelt                       Country, Peace, War  \n",
       "3             Nelson Mandela        Inspirational, Motivational, Death  \n",
       "4               Erma Bombeck              4th Of July, Food, Patriotic  \n",
       "..                       ...                                       ...  \n",
       "995          John F. Kennedy         4th Of July, Responsibility, Past  \n",
       "996             Rose Kennedy               Inspirational, Life, Change  \n",
       "997  Martin Luther King, Jr.        Inspirational, Positive, Inspiring  \n",
       "998           Michael Landon             Motivational, Positive, Death  \n",
       "999      Henry David Thoreau       Inspirational, Being Yourself, Real  \n",
       "\n",
       "[1000 rows x 3 columns]"
      ]
     },
     "execution_count": 83,
     "metadata": {},
     "output_type": "execute_result"
    }
   ],
   "source": [
    "df = pd.DataFrame({'Quotes':quote, 'Authors':authors, 'Type of Quote':type})\n",
    "df[:1000]"
   ]
  },
  {
   "cell_type": "code",
   "execution_count": null,
   "id": "78b2ffe2",
   "metadata": {},
   "outputs": [],
   "source": []
  },
  {
   "cell_type": "markdown",
   "id": "7ed8bcdc",
   "metadata": {},
   "source": [
    "# For the site Jorgan Josh:\n",
    "    https://www.jagranjosh.com/general-knowledge/list-of-all-prime-ministers-of-india-1473165149-1"
   ]
  },
  {
   "cell_type": "code",
   "execution_count": 2,
   "id": "ac9405f8",
   "metadata": {},
   "outputs": [],
   "source": [
    "driver6 = webdriver.Chrome()"
   ]
  },
  {
   "cell_type": "code",
   "execution_count": 3,
   "id": "8e0e3db3",
   "metadata": {},
   "outputs": [],
   "source": [
    "driver6.get('https://www.jagranjosh.com/general-knowledge/list-of-all-prime-ministers-of-india-1473165149-1')"
   ]
  },
  {
   "cell_type": "code",
   "execution_count": 21,
   "id": "33123c20",
   "metadata": {
    "scrolled": true
   },
   "outputs": [
    {
     "name": "stdout",
     "output_type": "stream",
     "text": [
      "['1.', 'Jawahar Lal Nehru', '(1889–1964)', '15 August 1947 to 27 May 1964\\n16 years, 286 days', 'The first prime minister of India and the longest-serving PM of India, the first to die in office.', '2.', 'Gulzarilal Nanda (Acting)', '(1898-1998)', '27 May 1964 to 9 June 1964,\\n13 days', 'First acting PM of India', '3.', 'Lal Bahadur Shastri', '(1904–1966)', '9 June 1964 to 11 January 1966\\n1 year, 216 days', \"He has given the slogan of 'Jai Jawan Jai Kisan' during the Indo-Pak war of 1965\", '5.', 'Indira Gandhi', '(1917–1984)', '24 January 1966 to 24 March 1977\\n11 years, 59 days', 'First female Prime Minister of India', '6.', 'Morarji Desai', '(1896–1995)', '24 March 1977 to  28 July 1979 \\n2 year, 126 days', 'Oldest to become PM (81 years old) and first to resign from office', '7.', 'Charan Singh', '(1902–1987)', '28 July 1979 to 14 January 1980\\n170 days', 'Only PM who did not face the Parliament', '8.', 'Indira Gandhi', '(1917–1984)', '14 January 1980 to 31 October 1984\\n4 years, 291 days', 'The first lady who served as PM for the second term', '9.', 'Rajiv Gandhi', '(1944–1991)', '31 October 1984 to 2 December 1989\\n5 years, 32 days', 'Youngest to become PM (40 years old)', '10.', 'V. P. Singh', '(1931–2008)', '2 December 1989 to 10 November 1990\\n343 days', 'First PM to step down after a vote of no confidence', '11.', 'Chandra Shekhar', '(1927–2007)', '10 November 1990 to 21 June 1991\\n223 days', 'He belongs to  Samajwadi Janata Party', '12.', 'P. V. Narasimha Rao', '(1921–2004)', '21 June 1991 to 16 May 1996\\n4 years, 330 days', 'First PM from South India', '13.', 'Atal Bihari Vajpayee', '(1924- 2018)', '16 May 1996 to 1 June 1996\\n16 days', 'PM for shortest tenure', '14.', 'H. D. Deve Gowda', '(born 1933)', '1 June 1996 to 21 April 1997\\n324 days', 'He belongs to  Janata Dal', '15.', 'Inder Kumar Gujral', '(1919–2012)', '21 April 1997 to 19 March 1998 \\n332 days', '------', '16.', 'Atal Bihari Vajpayee', '(1924-2018)', '19 March 1998 to 22 May 2004 \\n6 years, 64 days', ' The first non-congress PM who completed a full term as PM', '17.', 'Manmohan Singh', '(born 1932)', '22 May 2004 to 26 May 2014   \\n10 years, 4 days', ' First Sikh PM', '18.', 'Narendra Modi', '(born 1950)', '26 May 2014 - 2019', '4th Prime Minister of India who served two consecutive tenures']\n"
     ]
    }
   ],
   "source": [
    "# Scraping the PM Information list:\n",
    "\n",
    "pm_list = []\n",
    "\n",
    "name_tag = driver6.find_elements(By.XPATH, '//td[@valign=\"top\"]')\n",
    "for i in name_tag:\n",
    "    name = i.text\n",
    "    pm_list.append(name)\n",
    "\n",
    "print(pm_list)"
   ]
  },
  {
   "cell_type": "code",
   "execution_count": 27,
   "id": "067f45f0",
   "metadata": {},
   "outputs": [
    {
     "name": "stdout",
     "output_type": "stream",
     "text": [
      "PM Names: ['Jawahar Lal Nehru', 'Gulzarilal Nanda (Acting)', 'Lal Bahadur Shastri', 'Indira Gandhi', 'Morarji Desai', 'Charan Singh', 'Indira Gandhi', 'Rajiv Gandhi', 'V. P. Singh', 'Chandra Shekhar', 'P. V. Narasimha Rao', 'Atal Bihari Vajpayee', 'H. D. Deve Gowda', 'Inder Kumar Gujral', 'Atal Bihari Vajpayee', 'Manmohan Singh', 'Narendra Modi']\n",
      "Born-Dead Dates: ['(1889–1964)', '(1898-1998)', '(1904–1966)', '(1917–1984)', '(1896–1995)', '(1902–1987)', '(1917–1984)', '(1944–1991)', '(1931–2008)', '(1927–2007)', '(1921–2004)', '(1924- 2018)', '(born 1933)', '(1919–2012)', '(1924-2018)', '(born 1932)', '(born 1950)']\n",
      "Term Periods: ['15 August 1947 to 27 May 1964\\n16 years, 286 days', '27 May 1964 to 9 June 1964,\\n13 days', '9 June 1964 to 11 January 1966\\n1 year, 216 days', '24 January 1966 to 24 March 1977\\n11 years, 59 days', '24 March 1977 to  28 July 1979 \\n2 year, 126 days', '28 July 1979 to 14 January 1980\\n170 days', '14 January 1980 to 31 October 1984\\n4 years, 291 days', '31 October 1984 to 2 December 1989\\n5 years, 32 days', '2 December 1989 to 10 November 1990\\n343 days', '10 November 1990 to 21 June 1991\\n223 days', '21 June 1991 to 16 May 1996\\n4 years, 330 days', '16 May 1996 to 1 June 1996\\n16 days', '1 June 1996 to 21 April 1997\\n324 days', '21 April 1997 to 19 March 1998 \\n332 days', '19 March 1998 to 22 May 2004 \\n6 years, 64 days', '22 May 2004 to 26 May 2014   \\n10 years, 4 days', '26 May 2014 - 2019']\n"
     ]
    }
   ],
   "source": [
    "# Converting the single list into 3 required lists based on the given question:\n",
    "\n",
    "pm_names = [pm_list[i+1] for i in range(0, len(pm_list), 5)]\n",
    "\n",
    "born_dates = [pm_list[i+2] for i in range(0, len(pm_list), 5)]\n",
    "\n",
    "term_periods = [pm_list[i+3] for i in range(0, len(pm_list), 5)]\n",
    "\n",
    "print(\"PM Names:\", pm_names)\n",
    "print(\"Born-Dead Dates:\", born_dead)\n",
    "print(\"Term Periods:\", term_periods)"
   ]
  },
  {
   "cell_type": "code",
   "execution_count": 17,
   "id": "0fc046f0",
   "metadata": {},
   "outputs": [
    {
     "data": {
      "text/html": [
       "<div>\n",
       "<style scoped>\n",
       "    .dataframe tbody tr th:only-of-type {\n",
       "        vertical-align: middle;\n",
       "    }\n",
       "\n",
       "    .dataframe tbody tr th {\n",
       "        vertical-align: top;\n",
       "    }\n",
       "\n",
       "    .dataframe thead th {\n",
       "        text-align: right;\n",
       "    }\n",
       "</style>\n",
       "<table border=\"1\" class=\"dataframe\">\n",
       "  <thead>\n",
       "    <tr style=\"text-align: right;\">\n",
       "      <th></th>\n",
       "      <th>PM Names</th>\n",
       "      <th>Born-Dead</th>\n",
       "      <th>Term Periods</th>\n",
       "    </tr>\n",
       "  </thead>\n",
       "  <tbody>\n",
       "    <tr>\n",
       "      <th>0</th>\n",
       "      <td>Jawahar Lal Nehru</td>\n",
       "      <td>(1889–1964)</td>\n",
       "      <td>15 August 1947 to 27 May 1964\\n16 years, 286 days</td>\n",
       "    </tr>\n",
       "    <tr>\n",
       "      <th>1</th>\n",
       "      <td>Gulzarilal Nanda (Acting)</td>\n",
       "      <td>(1898-1998)</td>\n",
       "      <td>27 May 1964 to 9 June 1964,\\n13 days</td>\n",
       "    </tr>\n",
       "    <tr>\n",
       "      <th>2</th>\n",
       "      <td>Lal Bahadur Shastri</td>\n",
       "      <td>(1904–1966)</td>\n",
       "      <td>9 June 1964 to 11 January 1966\\n1 year, 216 days</td>\n",
       "    </tr>\n",
       "    <tr>\n",
       "      <th>3</th>\n",
       "      <td>Indira Gandhi</td>\n",
       "      <td>(1917–1984)</td>\n",
       "      <td>24 January 1966 to 24 March 1977\\n11 years, 59...</td>\n",
       "    </tr>\n",
       "    <tr>\n",
       "      <th>4</th>\n",
       "      <td>Morarji Desai</td>\n",
       "      <td>(1896–1995)</td>\n",
       "      <td>24 March 1977 to  28 July 1979 \\n2 year, 126 days</td>\n",
       "    </tr>\n",
       "    <tr>\n",
       "      <th>5</th>\n",
       "      <td>Charan Singh</td>\n",
       "      <td>(1902–1987)</td>\n",
       "      <td>28 July 1979 to 14 January 1980\\n170 days</td>\n",
       "    </tr>\n",
       "    <tr>\n",
       "      <th>6</th>\n",
       "      <td>Indira Gandhi</td>\n",
       "      <td>(1917–1984)</td>\n",
       "      <td>14 January 1980 to 31 October 1984\\n4 years, 2...</td>\n",
       "    </tr>\n",
       "    <tr>\n",
       "      <th>7</th>\n",
       "      <td>Rajiv Gandhi</td>\n",
       "      <td>(1944–1991)</td>\n",
       "      <td>31 October 1984 to 2 December 1989\\n5 years, 3...</td>\n",
       "    </tr>\n",
       "    <tr>\n",
       "      <th>8</th>\n",
       "      <td>V. P. Singh</td>\n",
       "      <td>(1931–2008)</td>\n",
       "      <td>2 December 1989 to 10 November 1990\\n343 days</td>\n",
       "    </tr>\n",
       "    <tr>\n",
       "      <th>9</th>\n",
       "      <td>Chandra Shekhar</td>\n",
       "      <td>(1927–2007)</td>\n",
       "      <td>10 November 1990 to 21 June 1991\\n223 days</td>\n",
       "    </tr>\n",
       "    <tr>\n",
       "      <th>10</th>\n",
       "      <td>P. V. Narasimha Rao</td>\n",
       "      <td>(1921–2004)</td>\n",
       "      <td>21 June 1991 to 16 May 1996\\n4 years, 330 days</td>\n",
       "    </tr>\n",
       "    <tr>\n",
       "      <th>11</th>\n",
       "      <td>Atal Bihari Vajpayee</td>\n",
       "      <td>(1924- 2018)</td>\n",
       "      <td>16 May 1996 to 1 June 1996\\n16 days</td>\n",
       "    </tr>\n",
       "    <tr>\n",
       "      <th>12</th>\n",
       "      <td>H. D. Deve Gowda</td>\n",
       "      <td>(born 1933)</td>\n",
       "      <td>1 June 1996 to 21 April 1997\\n324 days</td>\n",
       "    </tr>\n",
       "    <tr>\n",
       "      <th>13</th>\n",
       "      <td>Inder Kumar Gujral</td>\n",
       "      <td>(1919–2012)</td>\n",
       "      <td>21 April 1997 to 19 March 1998 \\n332 days</td>\n",
       "    </tr>\n",
       "    <tr>\n",
       "      <th>14</th>\n",
       "      <td>Atal Bihari Vajpayee</td>\n",
       "      <td>(1924-2018)</td>\n",
       "      <td>19 March 1998 to 22 May 2004 \\n6 years, 64 days</td>\n",
       "    </tr>\n",
       "    <tr>\n",
       "      <th>15</th>\n",
       "      <td>Manmohan Singh</td>\n",
       "      <td>(born 1932)</td>\n",
       "      <td>22 May 2004 to 26 May 2014   \\n10 years, 4 days</td>\n",
       "    </tr>\n",
       "    <tr>\n",
       "      <th>16</th>\n",
       "      <td>Narendra Modi</td>\n",
       "      <td>(born 1950)</td>\n",
       "      <td>26 May 2014 - 2019</td>\n",
       "    </tr>\n",
       "  </tbody>\n",
       "</table>\n",
       "</div>"
      ],
      "text/plain": [
       "                     PM Names     Born-Dead  \\\n",
       "0           Jawahar Lal Nehru   (1889–1964)   \n",
       "1   Gulzarilal Nanda (Acting)   (1898-1998)   \n",
       "2         Lal Bahadur Shastri   (1904–1966)   \n",
       "3               Indira Gandhi   (1917–1984)   \n",
       "4               Morarji Desai   (1896–1995)   \n",
       "5                Charan Singh   (1902–1987)   \n",
       "6               Indira Gandhi   (1917–1984)   \n",
       "7                Rajiv Gandhi   (1944–1991)   \n",
       "8                 V. P. Singh   (1931–2008)   \n",
       "9             Chandra Shekhar   (1927–2007)   \n",
       "10        P. V. Narasimha Rao   (1921–2004)   \n",
       "11       Atal Bihari Vajpayee  (1924- 2018)   \n",
       "12           H. D. Deve Gowda   (born 1933)   \n",
       "13         Inder Kumar Gujral   (1919–2012)   \n",
       "14       Atal Bihari Vajpayee   (1924-2018)   \n",
       "15             Manmohan Singh   (born 1932)   \n",
       "16              Narendra Modi   (born 1950)   \n",
       "\n",
       "                                         Term Periods  \n",
       "0   15 August 1947 to 27 May 1964\\n16 years, 286 days  \n",
       "1                27 May 1964 to 9 June 1964,\\n13 days  \n",
       "2    9 June 1964 to 11 January 1966\\n1 year, 216 days  \n",
       "3   24 January 1966 to 24 March 1977\\n11 years, 59...  \n",
       "4   24 March 1977 to  28 July 1979 \\n2 year, 126 days  \n",
       "5           28 July 1979 to 14 January 1980\\n170 days  \n",
       "6   14 January 1980 to 31 October 1984\\n4 years, 2...  \n",
       "7   31 October 1984 to 2 December 1989\\n5 years, 3...  \n",
       "8       2 December 1989 to 10 November 1990\\n343 days  \n",
       "9          10 November 1990 to 21 June 1991\\n223 days  \n",
       "10     21 June 1991 to 16 May 1996\\n4 years, 330 days  \n",
       "11                16 May 1996 to 1 June 1996\\n16 days  \n",
       "12             1 June 1996 to 21 April 1997\\n324 days  \n",
       "13          21 April 1997 to 19 March 1998 \\n332 days  \n",
       "14    19 March 1998 to 22 May 2004 \\n6 years, 64 days  \n",
       "15    22 May 2004 to 26 May 2014   \\n10 years, 4 days  \n",
       "16                                 26 May 2014 - 2019  "
      ]
     },
     "execution_count": 17,
     "metadata": {},
     "output_type": "execute_result"
    }
   ],
   "source": [
    "# Creating the DataFrame:\n",
    "\n",
    "df = pd.DataFrame({'PM Names':pm_names, 'Born-Dead':born_dead, 'Term Periods':term_periods})\n",
    "df"
   ]
  },
  {
   "cell_type": "markdown",
   "id": "9e145b24",
   "metadata": {},
   "source": [
    "# For site Motor1:\n",
    "    https://www.motor1.com/"
   ]
  },
  {
   "cell_type": "code",
   "execution_count": 28,
   "id": "5ed18323",
   "metadata": {},
   "outputs": [],
   "source": [
    "driver7 = webdriver.Chrome()"
   ]
  },
  {
   "cell_type": "code",
   "execution_count": 29,
   "id": "a58ce443",
   "metadata": {},
   "outputs": [],
   "source": [
    "driver7.get('https://www.motor1.com/')"
   ]
  },
  {
   "cell_type": "code",
   "execution_count": 31,
   "id": "09576ff5",
   "metadata": {},
   "outputs": [],
   "source": [
    "# Entering the 50 most expensive cars\n",
    "\n",
    "enter = driver7.find_element(By.XPATH, '//input[@class=\"m1-search-panel-input m1-search-form-text\"]')\n",
    "enter.send_keys('50 most expensive cars')"
   ]
  },
  {
   "cell_type": "code",
   "execution_count": 32,
   "id": "528cfdd3",
   "metadata": {},
   "outputs": [],
   "source": [
    "# Searching the required the title:\n",
    "\n",
    "search = driver7.find_element(By.XPATH, '//button[@class=\"m1-search-panel-button m1-search-form-button-animate icon-search-svg\"]')\n",
    "search.click()"
   ]
  },
  {
   "cell_type": "code",
   "execution_count": 33,
   "id": "29e38874",
   "metadata": {},
   "outputs": [],
   "source": [
    "# Now clicking the Search button:\n",
    "\n",
    "top_cars = driver7.find_element(By.XPATH, '//div[@class=\"info\"]/div/h3/a[1]')\n",
    "top_cars.click()"
   ]
  },
  {
   "cell_type": "code",
   "execution_count": 38,
   "id": "495a89e1",
   "metadata": {},
   "outputs": [
    {
     "name": "stdout",
     "output_type": "stream",
     "text": [
      "['McLaren Senna GTR', 'Czinger 21C', 'Ferrari Monza', 'Gordon Murray T.33', 'Koenigsegg Gemera', 'Hennessey Venom F5', 'Bentley Bacalar', 'Hispano Suiza Carmen Boulogne', 'Bentley Mulliner Batur', 'SSC Tuatara', 'Lotus Evija', 'Aston Martin Vulcan', 'Delage D12', 'Ferrari Daytona SP3', 'McLaren Speedtail', 'Rimac Nevera', 'Pagani Utopia', 'Pininfarina Battista', 'Gordon Murray T.50', 'Lamborghini Countach', 'Hennessey Venom F5 Revolution', 'Mercedes-AMG Project One', 'Zenvo Aurora', 'Aston Martin Victor', 'Hennessey Venom F5 Roadster', 'Koenigsegg Jesko', 'Aspark Owl', 'Aston Martin Valkyrie', 'W Motors Lykan Hypersport', 'McLaren Solus', 'Pagani Huayra Evo R', 'Lamborghini Sian', 'Koenigsegg CC850', 'Bugatti Chiron Super Sport 300+', 'Gordon Murray Automotive T.50s Niki Lauda', 'Pagani Huayra Roadster BC', 'Lamborghini Veneno', 'Bugatti Bolide', 'Pininfarina B95 Speedster', 'Bugatti Mistral', 'Bugatti Divo', 'Pagani Huayra Imola', 'Pagani Codalunga', 'Mercedes-Maybach Exelero', 'Bugatti Centodieci', 'Bugatti Chiron Profilée', 'Rolls-Royce Sweptail', 'Bugatti La Voiture Noire', 'Rolls-Royce Boat Tail', 'Rolls-Royce La Rose Noire Droptail']\n",
      "50\n"
     ]
    }
   ],
   "source": [
    "# Scraping the Top 50 Cars Names:\n",
    "\n",
    "cars_list = []\n",
    "\n",
    "car_tag = driver7.find_elements(By.XPATH, '//h3[@class=\"subheader\"]')\n",
    "for i in car_tag[:50]:\n",
    "    car = i.text\n",
    "    cars_list.append(car)\n",
    "    \n",
    "print(cars_list)\n",
    "print(len(cars_list))"
   ]
  },
  {
   "cell_type": "code",
   "execution_count": 40,
   "id": "1caaf0cd",
   "metadata": {},
   "outputs": [
    {
     "name": "stdout",
     "output_type": "stream",
     "text": [
      "['$1.7 Million', 'Price: $1.7 Million', 'Price: $1.7 Million', 'Price: $1.7 Million', 'Price: $1.7 Million', 'Price: $1.8 Million', 'Price: $1.9 Million', 'Price: $1.9 Million', 'Price: $2.0 Million', 'Price: $2.0 Million', 'Price: $2.1 Million', 'Price: $2.3 Million', 'Price: $2.3 Million', 'Price: $2.3 Million', 'Price: $2.3 Million', 'Price: $2.4 Million', 'Price: $2.5 Million', 'Price: $2.5 Million', 'Price: $2.6 Million', 'Price: $2.6 Million', '$2.7 Million', 'Price: $2.7 Million', 'Price: $2.8 Million', 'Price: $3.0 Million', '$3.0 Million', 'Price: $3.0 Million', '$3.1 Million', 'Price: $3.2 Million', 'Price: $3.4 Million', '$3.5 Million', '$3.5 Million (est.)', 'Price: $3.6 million', 'Price: $3.7 Million', 'Price: $3.9 Million', '$3.9 Million', '$4.0 Million', 'Price: $4.5 Million', 'Price: $4.7 Million', 'Price: $4.8 Million', 'Price: $5.0 Million', 'Price: $5.8 Million', '$6.0 Million', 'Price: $7.4 Million', 'Price: $8.0 Million', 'Price: $9.0 Million', 'Price: $10.8 Million', 'Price: $12.8 Million', 'Price: $13.4 Million', 'Price: $28.0 Million (est.)', 'Price: $30 Million (est.)']\n"
     ]
    }
   ],
   "source": [
    "# Scraping the Top 50 Cars Prices:\n",
    "\n",
    "Price_list = []\n",
    "\n",
    "price_tag = driver7.find_elements(By.XPATH, '//div[@class=\"postBody description e-content\"]/p/strong')\n",
    "for i in price_tag[:50]:\n",
    "    price = i.text\n",
    "    Price_list.append(price)\n",
    "    \n",
    "print(Price_list)\n"
   ]
  },
  {
   "cell_type": "code",
   "execution_count": 41,
   "id": "2dd915ad",
   "metadata": {},
   "outputs": [
    {
     "data": {
      "text/html": [
       "<div>\n",
       "<style scoped>\n",
       "    .dataframe tbody tr th:only-of-type {\n",
       "        vertical-align: middle;\n",
       "    }\n",
       "\n",
       "    .dataframe tbody tr th {\n",
       "        vertical-align: top;\n",
       "    }\n",
       "\n",
       "    .dataframe thead th {\n",
       "        text-align: right;\n",
       "    }\n",
       "</style>\n",
       "<table border=\"1\" class=\"dataframe\">\n",
       "  <thead>\n",
       "    <tr style=\"text-align: right;\">\n",
       "      <th></th>\n",
       "      <th>Cars List</th>\n",
       "      <th>Price List</th>\n",
       "    </tr>\n",
       "  </thead>\n",
       "  <tbody>\n",
       "    <tr>\n",
       "      <th>0</th>\n",
       "      <td>McLaren Senna GTR</td>\n",
       "      <td>$1.7 Million</td>\n",
       "    </tr>\n",
       "    <tr>\n",
       "      <th>1</th>\n",
       "      <td>Czinger 21C</td>\n",
       "      <td>Price: $1.7 Million</td>\n",
       "    </tr>\n",
       "    <tr>\n",
       "      <th>2</th>\n",
       "      <td>Ferrari Monza</td>\n",
       "      <td>Price: $1.7 Million</td>\n",
       "    </tr>\n",
       "    <tr>\n",
       "      <th>3</th>\n",
       "      <td>Gordon Murray T.33</td>\n",
       "      <td>Price: $1.7 Million</td>\n",
       "    </tr>\n",
       "    <tr>\n",
       "      <th>4</th>\n",
       "      <td>Koenigsegg Gemera</td>\n",
       "      <td>Price: $1.7 Million</td>\n",
       "    </tr>\n",
       "    <tr>\n",
       "      <th>5</th>\n",
       "      <td>Hennessey Venom F5</td>\n",
       "      <td>Price: $1.8 Million</td>\n",
       "    </tr>\n",
       "    <tr>\n",
       "      <th>6</th>\n",
       "      <td>Bentley Bacalar</td>\n",
       "      <td>Price: $1.9 Million</td>\n",
       "    </tr>\n",
       "    <tr>\n",
       "      <th>7</th>\n",
       "      <td>Hispano Suiza Carmen Boulogne</td>\n",
       "      <td>Price: $1.9 Million</td>\n",
       "    </tr>\n",
       "    <tr>\n",
       "      <th>8</th>\n",
       "      <td>Bentley Mulliner Batur</td>\n",
       "      <td>Price: $2.0 Million</td>\n",
       "    </tr>\n",
       "    <tr>\n",
       "      <th>9</th>\n",
       "      <td>SSC Tuatara</td>\n",
       "      <td>Price: $2.0 Million</td>\n",
       "    </tr>\n",
       "    <tr>\n",
       "      <th>10</th>\n",
       "      <td>Lotus Evija</td>\n",
       "      <td>Price: $2.1 Million</td>\n",
       "    </tr>\n",
       "    <tr>\n",
       "      <th>11</th>\n",
       "      <td>Aston Martin Vulcan</td>\n",
       "      <td>Price: $2.3 Million</td>\n",
       "    </tr>\n",
       "    <tr>\n",
       "      <th>12</th>\n",
       "      <td>Delage D12</td>\n",
       "      <td>Price: $2.3 Million</td>\n",
       "    </tr>\n",
       "    <tr>\n",
       "      <th>13</th>\n",
       "      <td>Ferrari Daytona SP3</td>\n",
       "      <td>Price: $2.3 Million</td>\n",
       "    </tr>\n",
       "    <tr>\n",
       "      <th>14</th>\n",
       "      <td>McLaren Speedtail</td>\n",
       "      <td>Price: $2.3 Million</td>\n",
       "    </tr>\n",
       "    <tr>\n",
       "      <th>15</th>\n",
       "      <td>Rimac Nevera</td>\n",
       "      <td>Price: $2.4 Million</td>\n",
       "    </tr>\n",
       "    <tr>\n",
       "      <th>16</th>\n",
       "      <td>Pagani Utopia</td>\n",
       "      <td>Price: $2.5 Million</td>\n",
       "    </tr>\n",
       "    <tr>\n",
       "      <th>17</th>\n",
       "      <td>Pininfarina Battista</td>\n",
       "      <td>Price: $2.5 Million</td>\n",
       "    </tr>\n",
       "    <tr>\n",
       "      <th>18</th>\n",
       "      <td>Gordon Murray T.50</td>\n",
       "      <td>Price: $2.6 Million</td>\n",
       "    </tr>\n",
       "    <tr>\n",
       "      <th>19</th>\n",
       "      <td>Lamborghini Countach</td>\n",
       "      <td>Price: $2.6 Million</td>\n",
       "    </tr>\n",
       "    <tr>\n",
       "      <th>20</th>\n",
       "      <td>Hennessey Venom F5 Revolution</td>\n",
       "      <td>$2.7 Million</td>\n",
       "    </tr>\n",
       "    <tr>\n",
       "      <th>21</th>\n",
       "      <td>Mercedes-AMG Project One</td>\n",
       "      <td>Price: $2.7 Million</td>\n",
       "    </tr>\n",
       "    <tr>\n",
       "      <th>22</th>\n",
       "      <td>Zenvo Aurora</td>\n",
       "      <td>Price: $2.8 Million</td>\n",
       "    </tr>\n",
       "    <tr>\n",
       "      <th>23</th>\n",
       "      <td>Aston Martin Victor</td>\n",
       "      <td>Price: $3.0 Million</td>\n",
       "    </tr>\n",
       "    <tr>\n",
       "      <th>24</th>\n",
       "      <td>Hennessey Venom F5 Roadster</td>\n",
       "      <td>$3.0 Million</td>\n",
       "    </tr>\n",
       "    <tr>\n",
       "      <th>25</th>\n",
       "      <td>Koenigsegg Jesko</td>\n",
       "      <td>Price: $3.0 Million</td>\n",
       "    </tr>\n",
       "    <tr>\n",
       "      <th>26</th>\n",
       "      <td>Aspark Owl</td>\n",
       "      <td>$3.1 Million</td>\n",
       "    </tr>\n",
       "    <tr>\n",
       "      <th>27</th>\n",
       "      <td>Aston Martin Valkyrie</td>\n",
       "      <td>Price: $3.2 Million</td>\n",
       "    </tr>\n",
       "    <tr>\n",
       "      <th>28</th>\n",
       "      <td>W Motors Lykan Hypersport</td>\n",
       "      <td>Price: $3.4 Million</td>\n",
       "    </tr>\n",
       "    <tr>\n",
       "      <th>29</th>\n",
       "      <td>McLaren Solus</td>\n",
       "      <td>$3.5 Million</td>\n",
       "    </tr>\n",
       "    <tr>\n",
       "      <th>30</th>\n",
       "      <td>Pagani Huayra Evo R</td>\n",
       "      <td>$3.5 Million (est.)</td>\n",
       "    </tr>\n",
       "    <tr>\n",
       "      <th>31</th>\n",
       "      <td>Lamborghini Sian</td>\n",
       "      <td>Price: $3.6 million</td>\n",
       "    </tr>\n",
       "    <tr>\n",
       "      <th>32</th>\n",
       "      <td>Koenigsegg CC850</td>\n",
       "      <td>Price: $3.7 Million</td>\n",
       "    </tr>\n",
       "    <tr>\n",
       "      <th>33</th>\n",
       "      <td>Bugatti Chiron Super Sport 300+</td>\n",
       "      <td>Price: $3.9 Million</td>\n",
       "    </tr>\n",
       "    <tr>\n",
       "      <th>34</th>\n",
       "      <td>Gordon Murray Automotive T.50s Niki Lauda</td>\n",
       "      <td>$3.9 Million</td>\n",
       "    </tr>\n",
       "    <tr>\n",
       "      <th>35</th>\n",
       "      <td>Pagani Huayra Roadster BC</td>\n",
       "      <td>$4.0 Million</td>\n",
       "    </tr>\n",
       "    <tr>\n",
       "      <th>36</th>\n",
       "      <td>Lamborghini Veneno</td>\n",
       "      <td>Price: $4.5 Million</td>\n",
       "    </tr>\n",
       "    <tr>\n",
       "      <th>37</th>\n",
       "      <td>Bugatti Bolide</td>\n",
       "      <td>Price: $4.7 Million</td>\n",
       "    </tr>\n",
       "    <tr>\n",
       "      <th>38</th>\n",
       "      <td>Pininfarina B95 Speedster</td>\n",
       "      <td>Price: $4.8 Million</td>\n",
       "    </tr>\n",
       "    <tr>\n",
       "      <th>39</th>\n",
       "      <td>Bugatti Mistral</td>\n",
       "      <td>Price: $5.0 Million</td>\n",
       "    </tr>\n",
       "    <tr>\n",
       "      <th>40</th>\n",
       "      <td>Bugatti Divo</td>\n",
       "      <td>Price: $5.8 Million</td>\n",
       "    </tr>\n",
       "    <tr>\n",
       "      <th>41</th>\n",
       "      <td>Pagani Huayra Imola</td>\n",
       "      <td>$6.0 Million</td>\n",
       "    </tr>\n",
       "    <tr>\n",
       "      <th>42</th>\n",
       "      <td>Pagani Codalunga</td>\n",
       "      <td>Price: $7.4 Million</td>\n",
       "    </tr>\n",
       "    <tr>\n",
       "      <th>43</th>\n",
       "      <td>Mercedes-Maybach Exelero</td>\n",
       "      <td>Price: $8.0 Million</td>\n",
       "    </tr>\n",
       "    <tr>\n",
       "      <th>44</th>\n",
       "      <td>Bugatti Centodieci</td>\n",
       "      <td>Price: $9.0 Million</td>\n",
       "    </tr>\n",
       "    <tr>\n",
       "      <th>45</th>\n",
       "      <td>Bugatti Chiron Profilée</td>\n",
       "      <td>Price: $10.8 Million</td>\n",
       "    </tr>\n",
       "    <tr>\n",
       "      <th>46</th>\n",
       "      <td>Rolls-Royce Sweptail</td>\n",
       "      <td>Price: $12.8 Million</td>\n",
       "    </tr>\n",
       "    <tr>\n",
       "      <th>47</th>\n",
       "      <td>Bugatti La Voiture Noire</td>\n",
       "      <td>Price: $13.4 Million</td>\n",
       "    </tr>\n",
       "    <tr>\n",
       "      <th>48</th>\n",
       "      <td>Rolls-Royce Boat Tail</td>\n",
       "      <td>Price: $28.0 Million (est.)</td>\n",
       "    </tr>\n",
       "    <tr>\n",
       "      <th>49</th>\n",
       "      <td>Rolls-Royce La Rose Noire Droptail</td>\n",
       "      <td>Price: $30 Million (est.)</td>\n",
       "    </tr>\n",
       "  </tbody>\n",
       "</table>\n",
       "</div>"
      ],
      "text/plain": [
       "                                    Cars List                   Price List\n",
       "0                           McLaren Senna GTR                 $1.7 Million\n",
       "1                                 Czinger 21C          Price: $1.7 Million\n",
       "2                               Ferrari Monza          Price: $1.7 Million\n",
       "3                          Gordon Murray T.33          Price: $1.7 Million\n",
       "4                           Koenigsegg Gemera          Price: $1.7 Million\n",
       "5                          Hennessey Venom F5          Price: $1.8 Million\n",
       "6                             Bentley Bacalar          Price: $1.9 Million\n",
       "7               Hispano Suiza Carmen Boulogne          Price: $1.9 Million\n",
       "8                      Bentley Mulliner Batur          Price: $2.0 Million\n",
       "9                                 SSC Tuatara          Price: $2.0 Million\n",
       "10                                Lotus Evija          Price: $2.1 Million\n",
       "11                        Aston Martin Vulcan          Price: $2.3 Million\n",
       "12                                 Delage D12          Price: $2.3 Million\n",
       "13                        Ferrari Daytona SP3          Price: $2.3 Million\n",
       "14                          McLaren Speedtail          Price: $2.3 Million\n",
       "15                               Rimac Nevera          Price: $2.4 Million\n",
       "16                              Pagani Utopia          Price: $2.5 Million\n",
       "17                       Pininfarina Battista          Price: $2.5 Million\n",
       "18                         Gordon Murray T.50          Price: $2.6 Million\n",
       "19                       Lamborghini Countach          Price: $2.6 Million\n",
       "20              Hennessey Venom F5 Revolution                 $2.7 Million\n",
       "21                   Mercedes-AMG Project One          Price: $2.7 Million\n",
       "22                               Zenvo Aurora          Price: $2.8 Million\n",
       "23                        Aston Martin Victor          Price: $3.0 Million\n",
       "24                Hennessey Venom F5 Roadster                 $3.0 Million\n",
       "25                           Koenigsegg Jesko          Price: $3.0 Million\n",
       "26                                 Aspark Owl                 $3.1 Million\n",
       "27                      Aston Martin Valkyrie          Price: $3.2 Million\n",
       "28                  W Motors Lykan Hypersport          Price: $3.4 Million\n",
       "29                              McLaren Solus                 $3.5 Million\n",
       "30                        Pagani Huayra Evo R          $3.5 Million (est.)\n",
       "31                           Lamborghini Sian          Price: $3.6 million\n",
       "32                           Koenigsegg CC850          Price: $3.7 Million\n",
       "33            Bugatti Chiron Super Sport 300+          Price: $3.9 Million\n",
       "34  Gordon Murray Automotive T.50s Niki Lauda                 $3.9 Million\n",
       "35                  Pagani Huayra Roadster BC                 $4.0 Million\n",
       "36                         Lamborghini Veneno          Price: $4.5 Million\n",
       "37                             Bugatti Bolide          Price: $4.7 Million\n",
       "38                  Pininfarina B95 Speedster          Price: $4.8 Million\n",
       "39                            Bugatti Mistral          Price: $5.0 Million\n",
       "40                               Bugatti Divo          Price: $5.8 Million\n",
       "41                        Pagani Huayra Imola                 $6.0 Million\n",
       "42                           Pagani Codalunga          Price: $7.4 Million\n",
       "43                   Mercedes-Maybach Exelero          Price: $8.0 Million\n",
       "44                         Bugatti Centodieci          Price: $9.0 Million\n",
       "45                    Bugatti Chiron Profilée         Price: $10.8 Million\n",
       "46                       Rolls-Royce Sweptail         Price: $12.8 Million\n",
       "47                   Bugatti La Voiture Noire         Price: $13.4 Million\n",
       "48                      Rolls-Royce Boat Tail  Price: $28.0 Million (est.)\n",
       "49         Rolls-Royce La Rose Noire Droptail    Price: $30 Million (est.)"
      ]
     },
     "execution_count": 41,
     "metadata": {},
     "output_type": "execute_result"
    }
   ],
   "source": [
    "\n",
    "df = pd.DataFrame({'Cars List':cars_list, 'Price List':Price_list})\n",
    "df"
   ]
  },
  {
   "cell_type": "code",
   "execution_count": null,
   "id": "1d0c8e00",
   "metadata": {},
   "outputs": [],
   "source": []
  }
 ],
 "metadata": {
  "kernelspec": {
   "display_name": "Python 3 (ipykernel)",
   "language": "python",
   "name": "python3"
  },
  "language_info": {
   "codemirror_mode": {
    "name": "ipython",
    "version": 3
   },
   "file_extension": ".py",
   "mimetype": "text/x-python",
   "name": "python",
   "nbconvert_exporter": "python",
   "pygments_lexer": "ipython3",
   "version": "3.11.5"
  }
 },
 "nbformat": 4,
 "nbformat_minor": 5
}
